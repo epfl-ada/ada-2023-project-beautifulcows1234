{
 "cells": [
  {
   "cell_type": "code",
   "execution_count": 96,
   "id": "53be79f1",
   "metadata": {},
   "outputs": [
    {
     "name": "stdout",
     "output_type": "stream",
     "text": [
      "(4604, 2)\n"
     ]
    },
    {
     "data": {
      "text/html": [
       "<div>\n",
       "<style scoped>\n",
       "    .dataframe tbody tr th:only-of-type {\n",
       "        vertical-align: middle;\n",
       "    }\n",
       "\n",
       "    .dataframe tbody tr th {\n",
       "        vertical-align: top;\n",
       "    }\n",
       "\n",
       "    .dataframe thead th {\n",
       "        text-align: right;\n",
       "    }\n",
       "</style>\n",
       "<table border=\"1\" class=\"dataframe\">\n",
       "  <thead>\n",
       "    <tr style=\"text-align: right;\">\n",
       "      <th></th>\n",
       "      <th>Áedán_mac_Gabráin</th>\n",
       "      <th>Åland</th>\n",
       "      <th>Édouard_Manet</th>\n",
       "      <th>Éire</th>\n",
       "      <th>Óengus_I_of_the_Picts</th>\n",
       "      <th>€2_commemorative_coins</th>\n",
       "      <th>10th_century</th>\n",
       "      <th>11th_century</th>\n",
       "      <th>12th_century</th>\n",
       "      <th>13th_century</th>\n",
       "      <th>...</th>\n",
       "      <th>Ziad_Jarrah</th>\n",
       "      <th>Zimbabwe</th>\n",
       "      <th>Zinc</th>\n",
       "      <th>Zinc_chloride</th>\n",
       "      <th>Zion_National_Park</th>\n",
       "      <th>Zionism</th>\n",
       "      <th>Zirconium</th>\n",
       "      <th>Zoroaster</th>\n",
       "      <th>Zuid-Gelders</th>\n",
       "      <th>Zulu</th>\n",
       "    </tr>\n",
       "  </thead>\n",
       "  <tbody>\n",
       "  </tbody>\n",
       "</table>\n",
       "<p>0 rows × 4604 columns</p>\n",
       "</div>"
      ],
      "text/plain": [
       "Empty DataFrame\n",
       "Columns: [Áedán_mac_Gabráin, Åland, Édouard_Manet, Éire, Óengus_I_of_the_Picts, €2_commemorative_coins, 10th_century, 11th_century, 12th_century, 13th_century, 14th_century, 15th_Marine_Expeditionary_Unit, 15th_century, 16_Cygni, 16_Cygni_Bb, 16th_century, 1755_Lisbon_earthquake, 17th_century, 1896_Summer_Olympics, 18th_century, 1928_Okeechobee_Hurricane, 1973_oil_crisis, 1980_eruption_of_Mount_St._Helens, 1997_Pacific_hurricane_season, 19th_century, 1_Ceres, 1st_century, 1st_century_BC, 2-6-0, 2-8-0, 2003_Atlantic_hurricane_season, 2004_Atlantic_hurricane_season, 2004_Indian_Ocean_earthquake, 2005_Atlantic_hurricane_season, 2005_Hertfordshire_Oil_Storage_Terminal_fire, 2005_Kashmir_earthquake, 2005_Lake_Tanganyika_earthquake, 2005_Sumatra_earthquake, 20th_century, 21st_century, 2nd_century, 3_Juno, 3rd_century, 4-2-0, 4-4-0, 4-6-0, 47_Ursae_Majoris, 47_Ursae_Majoris_b, 47_Ursae_Majoris_c, 4_Vesta, 4th_century, 55_Cancri, 55_Cancri_b, 55_Cancri_c, 55_Cancri_d, 55_Cancri_e, 5th_century, 6-2-0, 6th_century, 7th_century, 8th_century, 90377_Sedna, 9th_century, A._E._J._Collins, ABO_blood_group_system, AC_DC, AIDS, AK-47, ALCO_FA, ASCII, AT&T, ATLAS_experiment, A_Christmas_Carol, A_Tale_of_a_Tub, A_Wrinkle_in_Time, A_cappella, Aachen, Aardvark, Aarhus, Abacá, Abacus, Abadan, Abbadid, Abbas_I_of_Persia, Abbasid, Abbey, Abbey_Theatre, Abbot, Abel_Tasman, Aberdeen, Aberration_of_light, Aberystwyth, Abhidhamma_Pitaka, Abidjan, Abkhazia, Able_Archer_83, Abraham_Goldfaden, Abraham_Lincoln, Absinthe, Absolute_zero, ...]\n",
       "Index: []\n",
       "\n",
       "[0 rows x 4604 columns]"
      ]
     },
     "execution_count": 96,
     "metadata": {},
     "output_type": "execute_result"
    }
   ],
   "source": [
    "import pandas as pd\n",
    "from urllib.parse import unquote\n",
    "\n",
    "dataFolder = '../Data/wikispeedia_paths-and-graph/'\n",
    "articlesDf = pd.read_csv(dataFolder+ 'articles.tsv')\n",
    "articlesDf = articlesDf.iloc[10:]\n",
    "articlesSeries  = pd.Series(articlesDf.index.map(lambda x : x[0])).map(lambda y : unquote(y,'utf-8'))\n",
    "articlesSeries.columns= 'article'\n",
    "articlesSeries.head(10)\n",
    "\n",
    "linksDf = pd.read_csv(dataFolder + 'links.tsv', skiprows= 11, sep = '\\t')\n",
    "linksDf.columns = ['linkSource', 'linkTarget']\n",
    "linksDf['linkSource'] = linksDf['linkTarget'].map(lambda x : unquote(x, 'utf-8'))\n",
    "linksDf['linkTarget'] = linksDf['linkTarget'].map(lambda x : unquote(x, 'utf-8'))\n",
    "linksDf\n",
    "\n",
    "categoriesDf = pd.read_csv(dataFolder + 'categories.tsv', skiprows=12, sep= '\\t')\n",
    "categoriesDf.columns = ['article', 'categories']\n",
    "categoriesDf['article'] = categoriesDf['article'].map(lambda x : unquote(x,'utf-8'))\n",
    "\n",
    "\n",
    "#for paths_finishedDf FORMAT:   hashedIpAddress   timestamp   durationInSec   path   rating\n",
    "paths_finishedDf = pd.read_csv(dataFolder + 'paths_finished.tsv',skiprows= 15, sep = '\\t')\n",
    "paths_finishedDf.columns = ['hashIpAddress', 'timestamp', 'durationInSec', 'path', 'rating']\n",
    "\n",
    "paths_unfinishedDf = pd.read_csv(dataFolder + 'paths_unfinished.tsv',skiprows = 16, sep = '\\t')\n",
    "paths_unfinishedDf.columns = ['hashIpAddress', 'timestamp', 'durationInSec', 'path', 'target','type']\n",
    "categoriesDf\n",
    "\n",
    "shortestPath = pd.read_csv(dataFolder+'shortest-path-distance-matrix.txt', skiprows= 15)\n",
    "print(shortestPath.shape)\n",
    "shortestPath.columns = ['shortest_path', 'temp']\n",
    "shortestPath = shortestPath['shortest_path']\n",
    "shortestPathDf = pd.DataFrame(columns= articlesSeries)\n",
    "shortestPathDf\n"
   ]
  },
  {
   "cell_type": "code",
   "execution_count": null,
   "id": "34fc3957",
   "metadata": {},
   "outputs": [],
   "source": []
  }
 ],
 "metadata": {
  "kernelspec": {
   "display_name": "Python 3 (ipykernel)",
   "language": "python",
   "name": "python3"
  },
  "language_info": {
   "codemirror_mode": {
    "name": "ipython",
    "version": 3
   },
   "file_extension": ".py",
   "mimetype": "text/x-python",
   "name": "python",
   "nbconvert_exporter": "python",
   "pygments_lexer": "ipython3",
   "version": "3.9.18"
  }
 },
 "nbformat": 4,
 "nbformat_minor": 5
}
