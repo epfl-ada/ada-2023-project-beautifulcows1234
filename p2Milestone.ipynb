{
 "cells": [
  {
   "cell_type": "code",
   "execution_count": 1,
   "id": "53be79f1",
   "metadata": {},
   "outputs": [
    {
     "data": {
      "text/plain": [
       "0       10th_century\n",
       "1       11th_century\n",
       "2       12th_century\n",
       "3       13th_century\n",
       "4       14th_century\n",
       "            ...     \n",
       "4593         Zionism\n",
       "4594       Zirconium\n",
       "4595       Zoroaster\n",
       "4596    Zuid-Gelders\n",
       "4597            Zulu\n",
       "Length: 4598, dtype: object"
      ]
     },
     "execution_count": 1,
     "metadata": {},
     "output_type": "execute_result"
    }
   ],
   "source": [
    "import pandas as pd\n",
    "dataFolder = '../Data/wikispeedia_paths-and-graph/'\n",
    "articlesDf = pd.read_csv(dataFolder+ 'articles.tsv')\n",
    "articlesDf = articlesDf.iloc[16:]\n",
    "articlesSeries  = pd.Series(articlesDf.index.map(lambda x : x[0]))\n",
    "articlesSeries\n",
    "\n",
    "\n"
   ]
  },
  {
   "cell_type": "code",
   "execution_count": null,
   "id": "20a8d0af",
   "metadata": {},
   "outputs": [],
   "source": []
  }
 ],
 "metadata": {
  "kernelspec": {
   "display_name": "Python 3 (ipykernel)",
   "language": "python",
   "name": "python3"
  },
  "language_info": {
   "codemirror_mode": {
    "name": "ipython",
    "version": 3
   },
   "file_extension": ".py",
   "mimetype": "text/x-python",
   "name": "python",
   "nbconvert_exporter": "python",
   "pygments_lexer": "ipython3",
   "version": "3.9.6"
  }
 },
 "nbformat": 4,
 "nbformat_minor": 5
}
