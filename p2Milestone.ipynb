{
 "cells": [
  {
   "cell_type": "code",
   "execution_count": 3,
   "id": "53be79f1",
   "metadata": {},
   "outputs": [
    {
     "name": "stdout",
     "output_type": "stream",
     "text": [
      "        hashedIpAddress   timestamp  durationInSec  \\\n",
      "0      3824310e536af032  1344753412             88   \n",
      "1      415612e93584d30e  1349298640            138   \n",
      "2      64dd5cd342e3780c  1265613925             37   \n",
      "3      015245d773376aab  1366730828            175   \n",
      "4      5295bca242be81fe  1372890414            110   \n",
      "...                 ...         ...            ...   \n",
      "51312  15a13a1d66ef5456  1349231015             66   \n",
      "51313  2ef7ac844cefda58  1300254138            165   \n",
      "51314  12863abb7887f890  1385095372            228   \n",
      "51315  19f8284371753362  1298792567             56   \n",
      "51316  24b84602179de377  1318122701             30   \n",
      "\n",
      "                                                    path  rating  \n",
      "0      14th_century;Europe;Africa;Atlantic_slave_trad...     3.0  \n",
      "1      14th_century;Niger;Nigeria;British_Empire;Slav...     NaN  \n",
      "2         14th_century;Renaissance;Ancient_Greece;Greece     NaN  \n",
      "3      14th_century;Italy;Roman_Catholic_Church;HIV;R...     3.0  \n",
      "4      14th_century;Europe;North_America;United_State...     NaN  \n",
      "...                                                  ...     ...  \n",
      "51312                   Yagan;Ancient_Egypt;Civilization     NaN  \n",
      "51313  Yagan;Folklore;Brothers_Grimm;<;19th_century;C...     3.0  \n",
      "51314  Yagan;Australia;England;France;United_States;T...     NaN  \n",
      "51315  Yarralumla%2C_Australian_Capital_Territory;Aus...     1.0  \n",
      "51316                            Ziad_Jarrah;Germany;Jew     NaN  \n",
      "\n",
      "[51317 rows x 5 columns]\n"
     ]
    }
   ],
   "source": [
    "import pandas as pd\n",
    "import matplotlib.pyplot as plt\n",
    "from urllib.parse import unquote\n",
    "from tqdm import tqdm \n",
    "\n",
    "dataFolder = '../Data/wikispeedia_paths-and-graph/'\n",
    "articlesDf = pd.read_csv(dataFolder+ 'articles.tsv')\n",
    "articlesDf = articlesDf.iloc[10:]\n",
    "articlesSeries  = pd.Series(articlesDf.index.map(lambda x : x[0])).map(lambda y : unquote(y,'utf-8'))\n",
    "#articlesSeries.head(10)\n",
    "\n",
    "linksDf = pd.read_csv(dataFolder + 'links.tsv', header= 10, sep = '\\t')\n",
    "linksDf.index = linksDf.index.map(lambda x : unquote(x, 'utf-8'))\n",
    "linksDf.columns = ['links']\n",
    "linksDf['links'] = linksDf['links'].map(lambda x : unquote(x, 'utf-8'))\n",
    "#linksDf\n",
    "\n",
    "categoriesDf = pd.read_csv(dataFolder + 'categories.tsv', header=11, sep= '\\t')\n",
    "categoriesDf.index = categoriesDf.index.map(lambda x : unquote(x,'utf-8'))\n",
    "categoriesDf.columns = ['categories']\n",
    "#categoriesDf\n",
    "\n",
    "paths_finishedDf= pd.read_csv(dataFolder + 'paths_finished.tsv', header=15, sep= '\\t')\n",
    "paths_finishedDf.columns = ['hashedIpAddress',   'timestamp',   'durationInSec',  'path',  'rating']\n",
    "print(paths_finishedDf)\n",
    "\n",
    "paths_unfinishedDf= pd.read_csv(dataFolder + 'paths_unfinished.tsv', header=16, sep= '\\t')\n",
    "paths_unfinishedDf.columns = ['hashedIpAddress',   'timestamp',   'durationInSec',  'path',  'target', 'type']\n",
    "#paths_unfinishedDf"
   ]
  },
  {
   "cell_type": "code",
   "execution_count": null,
   "id": "20a8d0af",
   "metadata": {},
   "outputs": [],
   "source": []
  }
 ],
 "metadata": {
  "kernelspec": {
   "display_name": "Python 3 (ipykernel)",
   "language": "python",
   "name": "python3"
  },
  "language_info": {
   "codemirror_mode": {
    "name": "ipython",
    "version": 3
   },
   "file_extension": ".py",
   "mimetype": "text/x-python",
   "name": "python",
   "nbconvert_exporter": "python",
   "pygments_lexer": "ipython3",
   "version": "3.11.4"
  }
 },
 "nbformat": 4,
 "nbformat_minor": 5
}
