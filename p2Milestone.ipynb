{
 "cells": [
  {
   "cell_type": "code",
   "execution_count": 303,
   "id": "a215f1b8",
   "metadata": {},
   "outputs": [
    {
     "data": {
      "text/html": [
       "<div>\n",
       "<style scoped>\n",
       "    .dataframe tbody tr th:only-of-type {\n",
       "        vertical-align: middle;\n",
       "    }\n",
       "\n",
       "    .dataframe tbody tr th {\n",
       "        vertical-align: top;\n",
       "    }\n",
       "\n",
       "    .dataframe thead th {\n",
       "        text-align: right;\n",
       "    }\n",
       "</style>\n",
       "<table border=\"1\" class=\"dataframe\">\n",
       "  <thead>\n",
       "    <tr style=\"text-align: right;\">\n",
       "      <th></th>\n",
       "      <th>Category</th>\n",
       "      <th>People</th>\n",
       "      <th>Skin Color</th>\n",
       "    </tr>\n",
       "  </thead>\n",
       "  <tbody>\n",
       "    <tr>\n",
       "      <th>0</th>\n",
       "      <td>subject.People.Historical_figures</td>\n",
       "      <td>Óengus I of the Picts</td>\n",
       "      <td>Blanc</td>\n",
       "    </tr>\n",
       "    <tr>\n",
       "      <th>1</th>\n",
       "      <td>subject.People.Historical_figures</td>\n",
       "      <td>Abbas I of Persia</td>\n",
       "      <td>Peau plus foncée</td>\n",
       "    </tr>\n",
       "    <tr>\n",
       "      <th>2</th>\n",
       "      <td>subject.People.Historical_figures</td>\n",
       "      <td>Adam Smith</td>\n",
       "      <td>Blanc</td>\n",
       "    </tr>\n",
       "    <tr>\n",
       "      <th>3</th>\n",
       "      <td>subject.People.Historical_figures</td>\n",
       "      <td>Adriaen van der Donck</td>\n",
       "      <td>Blanc</td>\n",
       "    </tr>\n",
       "    <tr>\n",
       "      <th>4</th>\n",
       "      <td>subject.People.Historical_figures</td>\n",
       "      <td>Agamemnon</td>\n",
       "      <td>Blanc</td>\n",
       "    </tr>\n",
       "    <tr>\n",
       "      <th>...</th>\n",
       "      <td>...</td>\n",
       "      <td>...</td>\n",
       "      <td>...</td>\n",
       "    </tr>\n",
       "    <tr>\n",
       "      <th>706</th>\n",
       "      <td>subject.People.Computing_People</td>\n",
       "      <td>Jimmy Wales</td>\n",
       "      <td>Blanc</td>\n",
       "    </tr>\n",
       "    <tr>\n",
       "      <th>707</th>\n",
       "      <td>subject.People.Computing_People</td>\n",
       "      <td>Linus Torvalds</td>\n",
       "      <td>Blanc</td>\n",
       "    </tr>\n",
       "    <tr>\n",
       "      <th>708</th>\n",
       "      <td>subject.People.Computing_People</td>\n",
       "      <td>Richard Stallman</td>\n",
       "      <td>Blanc</td>\n",
       "    </tr>\n",
       "    <tr>\n",
       "      <th>709</th>\n",
       "      <td>subject.People.Computing_People</td>\n",
       "      <td>Tim Berners-Lee</td>\n",
       "      <td>Blanc</td>\n",
       "    </tr>\n",
       "    <tr>\n",
       "      <th>710</th>\n",
       "      <td>subject.People.Computing_People</td>\n",
       "      <td>Ward Cunningham</td>\n",
       "      <td>Blanc</td>\n",
       "    </tr>\n",
       "  </tbody>\n",
       "</table>\n",
       "<p>711 rows × 3 columns</p>\n",
       "</div>"
      ],
      "text/plain": [
       "                              Category                 People  \\\n",
       "0    subject.People.Historical_figures  Óengus I of the Picts   \n",
       "1    subject.People.Historical_figures      Abbas I of Persia   \n",
       "2    subject.People.Historical_figures             Adam Smith   \n",
       "3    subject.People.Historical_figures  Adriaen van der Donck   \n",
       "4    subject.People.Historical_figures              Agamemnon   \n",
       "..                                 ...                    ...   \n",
       "706    subject.People.Computing_People            Jimmy Wales   \n",
       "707    subject.People.Computing_People         Linus Torvalds   \n",
       "708    subject.People.Computing_People       Richard Stallman   \n",
       "709    subject.People.Computing_People        Tim Berners-Lee   \n",
       "710    subject.People.Computing_People        Ward Cunningham   \n",
       "\n",
       "           Skin Color  \n",
       "0               Blanc  \n",
       "1    Peau plus foncée  \n",
       "2               Blanc  \n",
       "3               Blanc  \n",
       "4               Blanc  \n",
       "..                ...  \n",
       "706             Blanc  \n",
       "707             Blanc  \n",
       "708             Blanc  \n",
       "709             Blanc  \n",
       "710             Blanc  \n",
       "\n",
       "[711 rows x 3 columns]"
      ]
     },
     "execution_count": 303,
     "metadata": {},
     "output_type": "execute_result"
    }
   ],
   "source": [
    "import pandas as pd\n",
    "import matplotlib.pyplot as plt\n",
    "from urllib.parse import unquote\n",
    "from tqdm import tqdm \n",
    "from scipy.stats import chi2_contingency\n",
    "\n",
    "dataFolder = '../Data/wikispeedia_paths-and-graph/'\n",
    "articlesDf = pd.read_csv(dataFolder+ 'articles.tsv')\n",
    "articlesDf = articlesDf.iloc[10:]\n",
    "articlesSeries  = pd.Series(articlesDf.index.map(lambda x : x[0])).map(lambda y : unquote(y,'utf-8'))\n",
    "#articlesSeries.head(10)\n",
    "\n",
    "linksDf = pd.read_csv(dataFolder + 'links.tsv', header=11, sep = '\\t')\n",
    "linksDf.columns = ['Elements','links']\n",
    "linksDf['Elements'] = linksDf['Elements'].map(lambda x : unquote(x, 'utf-8'))\n",
    "linksDf['links'] = linksDf['links'].map(lambda x : unquote(x, 'utf-8'))\n",
    "#linksDf.reset_index()\n",
    "\n",
    "categoriesDf = pd.read_csv(dataFolder + 'categories.tsv', header=11, sep= '\\t')\n",
    "categoriesDf.index = categoriesDf.index.map(lambda x : unquote(x,'utf-8'))\n",
    "categoriesDf.columns = ['categories']\n",
    "#categoriesDf\n",
    "\n",
    "paths_finishedDf= pd.read_csv(dataFolder + 'paths_finished.tsv', header=15, sep= '\\t')\n",
    "paths_finishedDf.columns = ['hashedIpAddress',   'timestamp',   'durationInSec',  'path',  'rating']\n",
    "#paths_finishedDf\n",
    "\n",
    "paths_unfinishedDf= pd.read_csv(dataFolder + 'paths_unfinished.tsv', header=16, sep= '\\t')\n",
    "paths_unfinishedDf.columns = ['hashedIpAddress',   'timestamp',   'durationInSec',  'path',  'target', 'type']\n",
    "#paths_unfinishedDf\n",
    "\n",
    "people_skin_color = pd.read_csv(dataFolder + 'people_with_skin_color.tsv', header=1, sep= '\\t' )\n",
    "people_skin_color.columns = ['Category', 'People', 'Skin Color']\n",
    "people_skin_color['People'] = people_skin_color['People'].map(lambda x : unquote(x, 'utf-8'))\n",
    "people_skin_color.reset_index()\n",
    "people_skin_color"
   ]
  },
  {
   "cell_type": "markdown",
   "metadata": {},
   "source": [
    "1. Distribution of articles in each categories \n"
   ]
  },
  {
   "cell_type": "markdown",
   "metadata": {},
   "source": [
    "The dataset 'categories' contains main categories and then sub-categories. We will focus on main categories."
   ]
  },
  {
   "cell_type": "code",
   "execution_count": 304,
   "metadata": {},
   "outputs": [
    {
     "data": {
      "image/png": "[encoded data removed]",
      "text/plain": [
       "<Figure size 720x432 with 1 Axes>"
      ]
     },
     "metadata": {
      "needs_background": "light"
     },
     "output_type": "display_data"
    }
   ],
   "source": [
    "categories_details = categoriesDf[\"categories\"].str.split(\".\", expand=True)\n",
    "\n",
    "#keep only the main category\n",
    "categories = categories_details[1]\n",
    "categories = pd.DataFrame(categories)\n",
    "categories = categories.rename(columns = {1 : 'Main Categories'})\n",
    "categories_distribution=categories['Main Categories'].value_counts()\n",
    "\n",
    "#Vizualise the distribution \n",
    "plt.figure(figsize=(10, 6))  \n",
    "colors = ['wheat' if cat != 'People' else 'orange' for cat in categories_distribution.index]\n",
    "categories_distribution.plot(kind='bar', color=colors)\n",
    "plt.title('Distribution of the categories')\n",
    "plt.xlabel(' ')\n",
    "plt.ylabel('Nombre de pages Wikispeedia')\n",
    "plt.show()"
   ]
  },
  {
   "cell_type": "markdown",
   "metadata": {},
   "source": [
    "People is the third category containing the bigger amount of articles (around 700 articles). We will know focus on this category and used our new dataset 'people_with_skin_color.tsv'"
   ]
  },
  {
   "cell_type": "markdown",
   "metadata": {},
   "source": [
    "2. The ethnics distribution whitin people articles"
   ]
  },
  {
   "cell_type": "markdown",
   "metadata": {},
   "source": [
    "To continue, we will focus on the ethnics distribution whithin the people articles. "
   ]
  },
  {
   "cell_type": "code",
   "execution_count": 305,
   "metadata": {},
   "outputs": [
    {
     "data": {
      "image/png": "[encoded data removed]",
      "text/plain": [
       "<Figure size 720x720 with 1 Axes>"
      ]
     },
     "metadata": {},
     "output_type": "display_data"
    }
   ],
   "source": [
    "people_color =  pd.concat([people_skin_color, people_skin_color['Category'].str.split(\".\", expand=True)], axis=1)\n",
    "people_color = people_color.drop(columns = ['Category', 0, 1])\n",
    "people_color = people_color.rename(columns = {1 : 'Categories'})\n",
    "\n",
    "unique_color=people_color['Skin Color'].unique()\n",
    "rename = {\n",
    "    'Blanc' : 'White',\n",
    "    'Peau plus foncée' : 'Black',\n",
    "    'Peau brune' : 'Black',\n",
    "    'Peau plus foncée (Aborigène australien)' : 'Black',\n",
    "    'Peau plus foncée (Asiatique)' : 'East Asian', \n",
    "    'Peau plus foncée (Moyen-Orient)' : 'Arab',\n",
    "    'Peau plus foncée (Polynésien)' : 'Polynesian',\n",
    "    'Peau plus foncée (Sherpa/Népalais)' : 'South Asian', \n",
    "    'Peau plus foncée (Ascendance africaine partielle)' : 'Black', \n",
    "    'Peau plus foncée (Indien)' : 'South Asian',\n",
    "    'Peau plus foncée (Berbère)' : 'Arab',\n",
    "    'Peau plus foncée (Arabe)' : 'Arab',\n",
    "    'Peau plus foncée (Tibétain)' : 'East Asian',\n",
    "    'Peau plus foncée (Persan)' : 'Arab',\n",
    "    'Peau plus foncée (Juif)' : 'Arab', \n",
    "    'Peau plus foncée (Somalienne)' : 'Black', \n",
    "    'Peau plus foncée (Mixte)' : 'Black',\n",
    "    'Peau plus foncée (Hispanique)' : 'Hispanic', \n",
    "    'Peau plus foncée (Indonésien)' : 'East Asian', \n",
    "    'Peau plus foncée (Japonais)' : 'East Asian',\n",
    "    'Peau plus foncée (Vietnamien)' : 'East Asian', \n",
    "    'Peau plus foncée (Indienne)' : 'South Asian', \n",
    "    'Peau brune (Indien)' : 'South Asian',\n",
    "    'Peau plus foncée (Palestinien)' : 'Arab',\n",
    "    'Peau brune (Pakistano-Indien)' : 'South Asian', \n",
    "    \"Blanc (D'origine libanaise)\": 'White', \n",
    "    'Peau plus foncée (Brésilien)' : 'Hispanic'\n",
    "}\n",
    "people_color['Skin Color'] = people_color['Skin Color'].replace(rename)\n",
    "people_color_dist=people_color['Skin Color'].value_counts()\n",
    "\n",
    "#Vizualise the data\n",
    "plt.figure(figsize=(10, 10))  \n",
    "plt.pie(people_color_dist)\n",
    "plt.title('Répartition des catégories')\n",
    "plt.legend(people_color_dist.index)\n",
    "plt.show()\n",
    "\n"
   ]
  },
  {
   "cell_type": "markdown",
   "metadata": {},
   "source": [
    "So the distribution of white people is way more bigger than the representation of the other ethnics groups. Wikispeedia contains more article about white personalities. This already show the inequal representation of the different ethnics groups within the game."
   ]
  },
  {
   "cell_type": "markdown",
   "metadata": {},
   "source": [
    "3. Extract the pathways where people are the final target "
   ]
  },
  {
   "cell_type": "markdown",
   "metadata": {},
   "source": [
    "So, we will look closely to the pathways where the target articles is a white people."
   ]
  },
  {
   "cell_type": "code",
   "execution_count": 306,
   "metadata": {},
   "outputs": [],
   "source": [
    "#Create a dataframe with the path decompose (each cells represents one article of the paths)\n",
    "path =  paths_finishedDf['path'].str.split(\";\", expand=True)\n",
    "\n",
    "#creat a dataframe containing only the people name\n",
    "people_name= people_color['People']"
   ]
  },
  {
   "cell_type": "code",
   "execution_count": 307,
   "metadata": {},
   "outputs": [
    {
     "name": "stderr",
     "output_type": "stream",
     "text": [
      "51317it [07:22, 115.94it/s]\n"
     ]
    }
   ],
   "source": [
    "#Find the index of the pathway that used at least one article categories in People\n",
    "liste_index=[]\n",
    "for index, row in tqdm(path.iterrows()):\n",
    "    for col in path.columns:\n",
    "        cell_value = row[col]\n",
    "        if cell_value in people_name.tolist():\n",
    "            liste_index.append(index)\n",
    "\n",
    "#Only keep unique index\n",
    "liste_index[:] = list(set(liste_index))\n",
    "\n",
    "#Only keep the line of the dataframe path_finished.tsv that contains People's article\n",
    "people_path = path.loc[liste_index]"
   ]
  },
  {
   "cell_type": "code",
   "execution_count": 308,
   "metadata": {},
   "outputs": [
    {
     "name": "stderr",
     "output_type": "stream",
     "text": [
      "2330it [00:00, 7224.38it/s]"
     ]
    },
    {
     "name": "stdout",
     "output_type": "stream",
     "text": [
      "['Hirohito', 'Jesus', 'Shaka', 'Raphael', 'Aristotle', 'Jesus', 'Jesus', 'Charlemagne', 'Confucius', 'Confucius', 'Jesus', 'Confucius', 'Muhammad', 'Muhammad', 'Muhammad', 'Muhammad', 'Aristotle', 'Thrasybulus', 'Socrates', 'Hippocrates', 'Hippocrates', 'Socrates', 'Jesus', 'Jesus', 'Augustus', 'Voltaire', 'Jesus', 'Jesus', 'Jesus', 'Jesus', 'Jesus', 'Jesus', 'Jesus', 'Jesus', 'Jesus', 'Jesus', 'Jesus', 'Jesus', 'Jesus', 'Jesus', 'Jesus', 'Jesus', 'Jesus', 'Socrates', 'Timur', 'Hippocrates', 'Charlemagne', 'Euclid', 'Euclid', 'Euclid', 'Agamemnon', 'Heraclius', 'Helen', 'Heraclius', 'Jesus', 'Saladin', 'Saladin', 'Jesus', 'Euclid', 'Aristotle', 'Aristotle', 'Aristotle', 'Claudius', 'Augustus', 'Homer', 'Alcibiades', 'Agamemnon', 'Claudius', 'Socrates', 'Buddha', 'Michelangelo', 'Muhammad', 'Muhammad', 'Pythagoras', 'Pythagoras', 'Pythagoras', 'Columba', 'Augustus', 'H.D.', 'Euclid', 'Euclid', 'Pericles', 'Socrates', 'Socrates', 'Socrates', 'Socrates', 'Socrates', 'Zoroaster', 'Charlemagne', 'Virgil', 'Socrates', 'Pythagoras', 'Pythagoras', 'Pythagoras', 'Raphael', 'Muhammad', 'Plato', 'Virgil', 'Confucius', 'Confucius', 'Confucius', 'Confucius', 'Confucius', 'Confucius', 'Confucius', 'Confucius', 'Jocelin', 'Muhammad', 'Jesus', 'Jesus', 'Claudius', 'Muhammad', 'Jesus', 'Muhammad', 'Muhammad', 'Socrates', 'Buddha', 'Akhenaten', 'Jesus', 'Agamemnon', 'Jesus', 'Jesus', 'Jesus', 'Jesus', 'Jesus', 'Jesus', 'Jesus', 'Jesus', 'Jesus', 'Jesus', 'Jesus', 'Jesus', 'Hirohito', 'Socrates', 'Akhenaten', 'Archimedes', 'Plato', 'Plato', 'Plato', 'Jesus', 'Jesus', 'Zoroaster', 'Isaac', 'Isaac', 'Jesus', 'Jesus', 'Jesus', 'Jesus', 'Jesus', 'Homer', 'Ptolemy', 'Homer', 'Augustus', 'Jesus', 'Muhammad', 'Muhammad', 'Muhammad', 'Jesus', 'Jesus', 'Buddha', 'Buddha', 'Buddha', 'Socrates', 'Pericles', 'Hippocrates', 'Hippocrates', 'Jocelin', 'Timur', 'Muhammad', 'Pythagoras', 'Aristotle', 'Hirohito', 'Plato', 'Plato', 'Plato', 'Socrates', 'Shaka', 'Muhammad', 'Socrates', 'Socrates', 'Socrates', 'Socrates', 'Socrates', 'Jesus', 'Aristotle', 'Michelangelo', 'Michelangelo', 'Agamemnon', 'Michelangelo', 'Zoroaster', 'Jesus', 'Jesus', 'Jesus', 'Jesus', 'Jesus', 'Jesus', 'Jesus', 'Jesus', 'Elagabalus', 'Thrasybulus', 'Plato', 'Plato', 'Buddha', 'Akhenaten', 'Virgil', 'Michelangelo', 'Voltaire', 'Muhammad', 'Helen', 'Helen', 'Helen', 'Columba', 'Shaka', 'Aristotle', 'Aristotle', 'Michelangelo', 'Socrates', 'Socrates', 'Babur', 'Plato', 'Isaac', 'Isaac', 'Muhammad', 'Jesus', 'Virgil', 'Agamemnon', 'Agamemnon', 'Agamemnon', 'Agamemnon', 'Agamemnon', 'Raphael', 'Raphael', 'Claudius', 'Michelangelo', 'Claudius', 'Homer', 'Hatshepsut', 'Babur', 'Jesus', 'Claudius', 'Jesus', 'Jesus', 'Confucius', 'Jocelin', 'Saladin', 'Hippocrates', 'Hippocrates', 'Agamemnon', 'Agamemnon', 'Jesus', 'Agamemnon', 'Akhenaten', 'Confucius', 'Confucius', 'Pythagoras', 'Babur', 'Timur', 'Jesus', 'Jesus', 'Jesus', 'Jesus', 'Jesus', 'Jesus', 'Jesus', 'Jesus', 'Michelangelo', 'Homer', 'Homer', 'Homer', 'Homer', 'Homer', 'Elagabalus', 'Aristotle', 'Jesus', 'Jesus', 'Jesus', 'Jesus', 'Socrates', 'Jesus', 'Jesus', 'Hatshepsut', 'Shaka', 'Augustus', 'Thrasybulus', 'Muhammad', 'Helen', 'Ptolemy', 'Zoroaster', 'Pythagoras', 'Pythagoras', 'Pythagoras', 'Laozi', 'Laozi', 'Laozi', 'Claudius', 'Jesus', 'Babur', 'Isaac', 'Jesus', 'Confucius', 'Confucius', 'Agamemnon', 'Agamemnon', 'Plato', 'Plato', 'Plato', 'Plato', 'Plato', 'Demosthenes', 'Jesus', 'Jesus', 'Jesus', 'Jesus', 'Jesus', 'Jesus', 'Jesus', 'Jesus', 'Jesus', 'Jesus', 'Jesus', 'Heraclius', 'Buddha', 'Muhammad', 'Muhammad', 'Buddha', 'Aristotle', 'Jesus', 'Jesus', 'Augustus', 'Isaac', 'Helen', 'Helen', 'Jesus', 'Jesus', 'Jesus', 'Jesus', 'Jesus', 'Jesus', 'Jesus', 'Jesus', 'Jesus', 'Socrates', 'Socrates', 'Jocelin', 'Socrates', 'Socrates', 'Socrates', 'Socrates', 'Socrates', 'Charlemagne', 'Jesus', 'Jesus', 'Alcibiades', 'Alcibiades', 'Confucius', 'Shaka', 'Laozi', 'Shaka', 'Shaka', 'Demosthenes', 'Jesus', 'Hippocrates', 'Jesus', 'Jesus', 'Jesus', 'Jesus', 'Jesus', 'Jesus', 'Buddha', 'Buddha', 'Buddha', 'Buddha', 'Agamemnon', 'Muhammad', 'Charlemagne', 'Jesus', 'Jesus', 'Jesus', 'Homer', 'Archimedes', 'Archimedes', 'Buddha', 'Buddha', 'Buddha', 'Boudica', 'Pericles', 'Muhammad', 'Muhammad', 'Muhammad', 'H.D.', 'Hirohito', 'Ptolemy', 'Homer', 'Heraclius', 'Heraclius', 'Boudica', 'Boudica', 'Socrates', 'Pericles', 'Aristotle', 'Aristotle', 'Aristotle', 'Shaka', 'Jesus', 'Confucius', 'Confucius', 'Jesus', 'Jesus', 'Jesus', 'Jesus', 'Jesus', 'Jesus', 'Jesus', 'Boudica', 'Agamemnon', 'Aristotle', 'Aristotle', 'Aristotle', 'Aristotle', 'Plato', 'Columba', 'Aristotle', 'Hatshepsut', 'Hippocrates', 'Jesus', 'Jesus', 'Jesus', 'Jesus', 'Jesus', 'Agamemnon', 'Claudius', 'Augustus', 'Shaka', 'Augustus', 'Buddha', 'Buddha', 'Buddha', 'Buddha', 'Buddha', 'Hirohito', 'Pythagoras', 'Charlemagne', 'Hippocrates', 'Isaac', 'Isaac', 'Boudica', 'Helen', 'Jesus', 'Michelangelo', 'Michelangelo', 'Michelangelo', 'Michelangelo', 'Muhammad', 'Muhammad', 'Muhammad', 'Hippocrates', 'Claudius', 'Archimedes', 'Buddha', 'Buddha', 'Buddha', 'Ptolemy', 'Ptolemy', 'Ptolemy', 'Isaac', 'Jesus', 'Jesus', 'Jesus', 'Charlemagne', 'Homer', 'Homer', 'Aristotle', 'Aristotle', 'Aristotle', 'Augustus', 'Hirohito', 'Pythagoras', 'Pythagoras', 'Jesus', 'Archimedes', 'Archimedes', 'Archimedes', 'Archimedes', 'H.D.', 'Jesus', 'Timur', 'Jesus', 'Jesus', 'Jesus', 'Jesus', 'Jesus', 'Jesus', 'Jesus', 'Jesus', 'Jesus', 'Jesus', 'Jesus', 'Jesus', 'Jesus', 'Jesus', 'Jesus', 'Jesus', 'Buddha', 'Charlemagne', 'H.D.', 'Jesus', 'Jesus', 'Jesus', 'Jesus', 'Buddha', 'Elagabalus', 'Confucius', 'Confucius', 'Helen', 'Helen', 'Jesus', 'Hatshepsut', 'Thrasybulus', 'Saladin', 'Jesus', 'Isaac', 'Isaac', 'Demosthenes', 'Demosthenes', 'Michelangelo', 'Plato', 'Agamemnon', 'Agamemnon', 'Laozi', 'Laozi', 'Ptolemy', 'Ptolemy', 'Ptolemy', 'Aristotle', 'Isaac', 'Isaac', 'Isaac', 'Jesus', 'Socrates', 'Charlemagne', 'Pericles', 'Muhammad', 'Muhammad', 'Plato', 'Raphael', 'Pericles', 'Plato', 'Plato', 'Plato', 'Aristotle', 'Aristotle', 'Claudius', 'Aristotle', 'Aristotle', 'Demosthenes', 'Hippocrates', 'Hippocrates', 'Hippocrates', 'Elagabalus', 'Socrates', 'Socrates', 'Socrates', 'Socrates', 'Jesus', 'Jesus', 'Jesus', 'Jesus', 'Jesus', 'Columba', 'Columba', 'Virgil', 'Socrates', 'Socrates', 'Socrates', 'Elagabalus', 'Charlemagne', 'Laozi', 'Elagabalus', 'Augustus', 'Hatshepsut', 'Euclid', 'Buddha', 'Jesus', 'Jesus', 'Jesus', 'Jesus', 'Jesus', 'Jesus', 'Jesus', 'Jesus', 'Hatshepsut', 'Hatshepsut', 'Ptolemy', 'Ptolemy', 'Hatshepsut', 'Timur', 'Raphael', 'Plato', 'Buddha', 'Buddha', 'Muhammad', 'Muhammad', 'Muhammad', 'Muhammad', 'Euclid', 'Socrates', 'Jesus', 'Raphael', 'Raphael', 'Elagabalus', 'Elagabalus', 'Heraclius', 'Shaka', 'Shaka', 'Saladin', 'Saladin', 'Saladin', 'Saladin', 'Pythagoras', 'Hippocrates', 'Hippocrates', 'Hippocrates', 'Hippocrates', 'Hippocrates', 'Hippocrates', 'Muhammad', 'Muhammad', 'Socrates', 'Jesus', 'Augustus', 'Hirohito', 'Hirohito', 'Jesus', 'Jesus', 'Jesus', 'Jesus', 'Jesus', 'Jesus', 'Jesus', 'Jesus', 'Jesus', 'Jesus', 'Jesus', 'Jesus', 'Jesus', 'Jesus', 'Jesus', 'Homer', 'Michelangelo', 'Michelangelo', 'Michelangelo', 'Homer', 'Claudius', 'Elagabalus', 'Muhammad', 'Buddha', 'Buddha', 'Buddha', 'Buddha', 'Confucius', 'Michelangelo', 'Raphael', 'Buddha', 'Pythagoras', 'Pythagoras', 'Pythagoras', 'Pythagoras', 'Confucius', 'Confucius', 'Confucius', 'Confucius', 'Jesus', 'Jesus', 'Jesus', 'Jesus', 'Alcibiades', 'Babur', 'Virgil', 'Homer', 'Homer', 'Hippocrates', 'Hippocrates', 'Confucius', 'Jesus', 'Jesus', 'Jesus', 'Jesus', 'Muhammad', 'Muhammad', 'Muhammad', 'Muhammad', 'Homer', 'Hippocrates', 'Jesus', 'Muhammad', 'Muhammad', 'Hippocrates', 'Alcibiades', 'Socrates', 'Akhenaten', 'Voltaire', 'Voltaire', 'Voltaire', 'Voltaire', 'Hirohito', 'Jesus', 'Archimedes', 'Confucius', 'Socrates', 'Socrates', 'Socrates', 'Socrates', 'Aristotle', 'Aristotle', 'Helen', 'Helen', 'Pythagoras', 'Hippocrates', 'Socrates', 'Aristotle', 'Aristotle']\n",
      "[24582, 40971, 16414, 32814, 24636, 32828, 32829, 16449, 16469, 16470, 24684, 49275, 8372, 8373, 8374, 8375, 16564, 24804, 24822, 49420, 49421, 24849, 16665, 16666, 41241, 295, 334, 335, 336, 337, 338, 339, 340, 341, 342, 343, 344, 345, 346, 347, 348, 349, 350, 8539, 41344, 8586, 41397, 444, 445, 446, 49597, 463, 25094, 33306, 539, 16935, 8745, 25134, 8767, 8811, 8812, 8813, 41612, 41624, 41652, 8902, 17154, 842, 25410, 17232, 50000, 33654, 33655, 25484, 25485, 25486, 25490, 33695, 935, 33721, 33722, 25549, 17425, 17426, 17427, 17428, 17429, 50193, 25627, 42048, 50266, 33890, 33891, 33892, 33917, 26423, 42141, 50335, 1193, 1194, 1195, 1196, 1197, 1198, 1199, 1200, 17592, 26424, 33988, 33989, 9417, 26425, 40953, 26426, 26427, 50436, 1321, 50504, 9575, 17774, 1393, 1394, 1395, 1396, 1397, 1398, 1399, 1400, 1401, 1402, 1403, 1404, 17784, 26041, 50666, 34294, 50695, 50696, 50697, 50698, 26140, 50722, 26153, 26154, 50734, 50735, 50736, 50737, 50738, 42549, 34373, 26184, 42594, 50806, 9848, 9849, 9850, 42675, 9913, 9936, 9937, 9938, 42705, 9965, 26352, 26353, 9974, 18178, 26422, 34754, 34776, 26589, 10229, 10230, 10231, 18439, 43038, 34865, 26473, 26474, 26475, 26476, 26477, 18613, 43195, 18621, 18622, 35006, 26853, 18679, 35117, 35118, 35119, 35120, 35121, 35122, 35123, 35124, 43359, 10643, 10655, 10656, 27063, 43468, 43474, 27102, 10727, 27119, 35321, 35322, 35323, 10758, 35340, 43550, 43551, 18990, 10867, 10868, 43636, 35448, 27311, 27312, 35519, 27351, 11031, 27421, 27422, 27423, 27424, 27425, 11042, 11043, 35643, 11068, 35644, 27460, 11130, 35712, 27528, 11145, 11185, 11186, 51070, 51074, 11214, 27601, 27602, 27610, 27611, 11228, 27612, 35805, 27648, 27649, 27693, 3156, 35929, 3175, 3176, 3177, 3178, 3179, 3180, 3181, 3182, 19559, 19578, 19579, 19580, 19581, 19582, 35990, 11429, 11430, 11431, 11432, 11433, 3253, 19649, 19650, 27842, 19654, 3285, 44253, 36068, 19709, 36132, 36137, 36215, 36216, 36217, 11667, 44446, 44447, 36269, 19890, 19899, 28116, 11753, 11764, 11765, 44535, 44536, 20015, 20016, 20017, 20018, 20019, 11830, 20031, 20032, 20033, 20034, 20035, 20036, 20037, 20038, 20039, 20040, 20041, 28228, 11890, 11953, 11954, 28349, 11972, 3797, 3798, 44769, 44798, 36626, 36627, 44847, 44848, 44849, 44850, 44851, 44852, 44853, 44854, 44855, 12124, 12125, 28516, 28520, 28521, 28522, 28523, 28524, 36755, 36762, 4028, 4039, 4040, 4090, 28671, 45060, 28678, 45063, 28696, 45105, 36920, 45114, 45115, 45116, 45117, 45118, 45119, 4185, 4186, 4187, 4188, 28842, 4303, 4317, 45109, 45110, 37130, 37166, 4413, 4414, 45383, 45384, 45385, 29078, 37309, 29185, 29186, 29187, 37382, 37428, 45625, 29319, 21185, 21186, 45766, 45767, 45792, 45805, 37707, 37708, 37709, 37729, 22154, 37739, 37740, 29559, 29560, 4993, 4994, 4995, 4996, 37844, 46074, 29723, 37927, 37928, 37929, 37930, 13358, 21552, 21584, 37997, 29817, 13453, 13454, 13455, 13456, 13457, 38034, 5302, 21696, 13505, 21697, 13517, 13518, 13519, 13520, 13521, 38095, 13529, 13551, 29975, 13604, 13605, 21812, 46404, 5469, 46435, 46436, 46437, 46438, 38259, 38260, 38261, 5508, 30084, 38288, 21913, 21914, 21915, 46494, 46495, 46496, 38306, 30157, 30158, 30159, 38360, 13785, 13786, 30219, 30220, 30221, 5695, 46671, 22101, 22102, 13922, 46712, 46713, 46714, 46715, 30332, 45106, 46733, 45107, 45108, 22152, 22153, 22155, 22156, 22157, 22158, 22159, 22160, 22161, 22162, 22163, 22164, 22165, 22166, 30352, 30355, 38549, 45111, 45112, 45113, 13990, 30380, 38578, 22198, 22199, 46806, 46807, 30447, 38716, 14146, 14148, 22358, 46950, 46951, 22392, 22393, 14230, 14254, 38841, 38842, 47070, 47071, 47076, 47077, 47078, 37039, 30734, 30735, 30736, 38937, 30763, 30817, 47261, 6311, 6312, 39079, 39082, 30910, 30915, 30916, 30917, 47304, 47305, 30922, 47306, 47307, 47343, 22817, 22818, 22819, 39208, 22873, 22874, 22875, 22876, 39300, 39301, 39302, 39303, 39304, 31129, 22963, 47555, 22982, 22983, 22984, 47576, 6625, 31209, 23021, 31229, 6655, 39431, 39432, 47626, 47627, 47628, 47629, 47630, 47631, 47632, 47633, 47649, 47650, 23077, 23078, 47651, 31278, 47685, 39500, 39503, 47700, 6741, 6742, 6743, 6744, 47716, 39578, 6827, 6848, 6849, 31426, 31427, 31444, 31446, 31447, 31493, 31494, 31495, 31496, 31545, 6981, 6982, 6983, 6984, 6985, 6986, 31559, 31560, 47990, 23441, 39889, 31719, 31720, 7146, 7147, 7148, 7149, 7150, 7151, 7152, 7153, 7154, 7155, 7156, 7157, 7158, 7159, 7160, 23540, 31761, 31762, 31763, 31769, 15407, 48170, 7223, 40000, 40001, 40002, 40003, 31824, 40021, 7296, 48262, 7321, 7322, 7323, 7324, 40091, 40092, 40093, 40094, 15549, 15550, 15551, 15552, 15560, 7371, 40207, 23875, 23876, 15730, 15731, 23936, 7577, 7578, 7579, 7580, 32158, 32159, 32160, 32161, 40358, 24012, 7654, 32234, 32235, 24064, 24092, 32359, 24197, 16017, 16018, 16019, 16020, 40623, 7858, 40639, 7879, 32467, 24301, 24302, 24303, 32560, 32561, 7993, 7994, 8024, 32626, 8110, 8160, 8161]\n",
      "['Alan_Turing', 'Isis', 'Monarchy', 'Macau', 'Crust_%28geology%29', 'Baseball', 'Baseball', 'Universe', 'Screw', 'Screw', 'Apricot', 'Thiamine', 'Wellington', 'Wellington', 'Wellington', 'Wellington', 'Steam_engine', 'Granite', 'Yangtze_River', 'Tourette_syndrome', 'Tourette_syndrome', 'Chad', 'Tin', 'Tin', 'Jersey', 'Age_of_Enlightenment', 'AIDS', 'AIDS', 'AIDS', 'AIDS', 'AIDS', 'AIDS', 'AIDS', 'AIDS', 'AIDS', 'AIDS', 'AIDS', 'AIDS', 'AIDS', 'AIDS', 'AIDS', 'AIDS', 'AIDS', 'World_War_II', 'John_Cabot', 'Zinc_chloride', 'John_Marshall', 'Aircraft', 'Aircraft', 'Aircraft', 'Troodon', 'Aircraft', 'Spacecraft_propulsion', 'Algiers', 'American_Civil_War', 'Hurricane_Camille', 'Ichthyosaur', 'Abraham_Lincoln', 'Albatross', 'British_Empire', 'British_Empire', 'British_Empire', 'Kashmir_region', 'Kevin_Spacey', 'Kiev', 'Buddhism', 'Oregano', 'Aristotle', 'Ozone_depletion', 'John_Locke', 'Volcanic_pipe', '4-4-0', '4-4-0', 'Goose', 'Goose', 'Goose', 'Goose', '4_Vesta', 'ASCII', '7th_century', '7th_century', 'Windows_XP', 'Vancouver', 'Vancouver', 'Vancouver', 'Vancouver', 'Vancouver', 'Warsaw', 'Cheetah', 'Lawrencium', 'Westminster_Abbey', 'Abu_Dhabi', 'Abu_Dhabi', 'Abu_Dhabi', 'Acetic_acid', 'Buffy_the_Vampire_Slayer', 'Library', 'Wikinews', 'Auto_racing', 'Auto_racing', 'Auto_racing', 'Auto_racing', 'Auto_racing', 'Auto_racing', 'Auto_racing', 'Auto_racing', 'A_cappella', 'Buffy_the_Vampire_Slayer', 'African_Buffalo', 'African_Buffalo', 'Turkey', 'Buffy_the_Vampire_Slayer', 'Isaac_Asimov', 'Buffy_the_Vampire_Slayer', 'Buffy_the_Vampire_Slayer', 'William_Pitt_the_Younger', 'Barbados', 'Windsor_Castle', 'Roman_Catholic_Church', 'North_Africa', 'Batman', 'Batman', 'Batman', 'Batman', 'Batman', 'Batman', 'Batman', 'Batman', 'Batman', 'Batman', 'Batman', 'Batman', 'Swastika', 'Francis_of_Assisi', 'X_Window_System', 'American_Samoa', 'Yeti', 'Yeti', 'Yeti', 'Yeti', 'Bible', 'Yttrium', 'Bible', 'Bible', 'Zambezi', 'Zambezi', 'Zambezi', 'Zambezi', 'Zambezi', 'Madrid', 'Andrew_Dickson_White', 'Cairo', 'Magna_Carta', 'Zulu', 'Carboniferous', 'Carboniferous', 'Carboniferous', 'Mancala', 'Comics', 'Common_cold', 'Common_cold', 'Common_cold', 'Mango', 'Yellow_fever', 'Battle_of_the_Santa_Cruz_Islands', 'Battle_of_the_Santa_Cruz_Islands', 'Tunisia', 'Optical_microscope', 'Buffy_the_Vampire_Slayer', 'Athanasius_Kircher', 'Atonality', 'Sulfur', 'Tree', 'Tree', 'Tree', 'Money', 'Melbourne', 'Australian_rules_football', 'Martin_Van_Buren', 'Martin_Van_Buren', 'Martin_Van_Buren', 'Martin_Van_Buren', 'Martin_Van_Buren', 'Himalayas', 'Milky_Way', 'Libya', 'Libya', 'Azerbaijani_people', 'Protoceratops', 'Cloud', 'Banana', 'Banana', 'Banana', 'Banana', 'Banana', 'Banana', 'Banana', 'Banana', 'Mongoose', 'Nikola_Tesla', 'Dubai', 'Dubai', 'Beeching_Axe', 'Mosque', 'Mount_Baker', 'Saint_Helena', 'William_Shakespeare', 'Jake_Gyllenhaal', 'Battle_of_Gettysburg', 'Battle_of_Gettysburg', 'Battle_of_Gettysburg', 'Cattle', 'Battle_of_Grunwald', 'Murray_River', 'Murray_River', 'Stonehenge', 'United_States_dollar', 'United_States_dollar', 'Music_of_Spain', 'Beatles_for_Sale', 'Ice_hockey', 'Ice_hockey', 'Behavioral_finance', 'Israel', 'Diplodocus', 'Toy_Story', 'Toy_Story', 'Toy_Story', 'Toy_Story', 'Toy_Story', 'Porto-Novo', 'Porto-Novo', 'Biodiesel', 'Olympic_Games', 'Biodiesel', 'Flamingo', 'Sputnik_1', 'Black_Rhinoceros', 'Antarctica', 'Space_Race', 'Zeus', 'Zeus', 'Group_%28mathematics%29', 'Hadrian%27s_Wall', 'Zeus', 'List_of_Asian_countries', 'List_of_Asian_countries', 'Effects_of_nuclear_explosions', 'Effects_of_nuclear_explosions', 'Pluto', 'Effects_of_nuclear_explosions', 'Blaise_Pascal', 'Synthesizer', 'Synthesizer', 'Myocardial_infarction', 'China', 'Bobcat', 'Christianity', 'Christianity', 'Christianity', 'Christianity', 'Christianity', 'Christianity', 'Christianity', 'Christianity', 'Cape_Town', 'Textile', 'Textile', 'Textile', 'Textile', 'Textile', 'Borage', 'Cold_War', 'Cold_War', 'Cold_War', 'Cold_War', 'Cold_War', 'Citrus', 'Pigment', 'Pigment', 'Muhammad_Ali', 'Pigment', 'Climate_change', 'Oceanography', 'Brahman', 'Morocco', 'Brush', 'Brush', 'Button', 'Button', 'Button', 'Leonardo_da_Vinci', 'Oroonoko', 'Oroonoko', 'Cai_Lun', 'Alphabet', 'Alphabet', 'Panama', 'Katana', 'Katana', 'Katana', 'Ouagadougou', 'Ouagadougou', 'Weed', 'Weed', 'Weed', 'Weed', 'Weed', 'Franz_Schubert', 'Weed', 'Weed', 'Weed', 'Weed', 'Weed', 'Weed', 'Weed', 'Weed', 'Weed', 'Weed', 'Weed', 'Beach', '1980_eruption_of_Mount_St._Helens', 'Sudan', 'Sudan', 'Netherlands_Antilles', 'Odysseus', 'Dog', 'Dog', 'Peace', 'Peak_District', 'Chaffinch', 'Chaffinch', 'Penguin', 'Penguin', 'Penguin', 'Penguin', 'Penguin', 'Penguin', 'Penguin', 'Penguin', 'Penguin', 'Apollo_8', 'Apollo_8', 'Porgy_and_Bess', 'Ceres_%28dwarf_planet%29', 'Ceres_%28dwarf_planet%29', 'Ceres_%28dwarf_planet%29', 'Ceres_%28dwarf_planet%29', 'Ceres_%28dwarf_planet%29', 'Chicago_Bears', 'Chicken', 'Edgar_Allan_Poe', 'Edgar_Allan_Poe', 'Edgar_Allan_Poe', 'Egypt', 'Elephant_shrew', 'Piccadilly_Circus', 'Ollanta_Humala', 'Piccadilly_Circus', 'Tobacco_smoking', 'Pikachu', 'Claudius', 'Pikachu', 'Pikachu', 'Pikachu', 'Pikachu', 'Pikachu', 'Pikachu', 'Elizabeth_II_of_the_United_Kingdom', 'Elizabeth_II_of_the_United_Kingdom', 'Elizabeth_II_of_the_United_Kingdom', 'Elizabeth_II_of_the_United_Kingdom', 'Globe_Theatre', 'England', 'England', 'Pikachu', 'Pikachu', 'Community', 'Conflict', 'Europe', 'Europe', 'Pound_sterling', 'Pound_sterling', 'Pound_sterling', 'Djibouti', 'Corporate_finance', 'Luftwaffe', 'Luftwaffe', 'Luftwaffe', 'Crash_test_dummy', 'Croatia', 'Qin_Shi_Huang', 'Yemen', 'Go_%28board_game%29', 'Go_%28board_game%29', 'Railway_post_office', 'Railway_post_office', 'Ramesses_II', 'Ramsgate', 'Desert_locust', 'Desert_locust', 'Desert_locust', 'Desmond_Tutu', 'Adolf_Hitler', 'Devonian', 'Devonian', 'Cheese', 'Cheese', 'God', 'God', 'God', 'God', 'Domestic_goat', 'Robert_Stephenson', 'A_Christmas_Carol', 'Douglas_Adams', 'Douglas_Adams', 'Douglas_Adams', 'Douglas_Adams', 'Doctor_Who', 'Accountancy', 'Tennis', 'Dunnock', 'Therizinosaurus', 'Fruit', 'Fruit', 'Fruit', 'Fruit', 'Fruit', 'Durham_Cathedral', 'Humanism', 'Pottery', 'The_Beano', 'Pottery', 'Glacier', 'Glacier', 'Glacier', 'Glacier', 'Glacier', 'EastEnders', 'Cambrian_explosion', 'Charles_Darwin', 'Population_history_of_American_indigenous_peoples', 'University_of_Cambridge', 'University_of_Cambridge', 'Chennai', 'Saltasaurus', 'Iran', 'Sand', 'Sand', 'Sand', 'Sand', 'Edward_VII_of_the_United_Kingdom', 'Edward_VII_of_the_United_Kingdom', 'Edward_VII_of_the_United_Kingdom', 'Italy', 'Amazon_Basin', 'Edward_the_Confessor', '1st_century_BC', '1st_century_BC', '1st_century_BC', 'Scandium', 'Scandium', 'Scandium', 'Effect_of_Hurricane_Katrina_on_New_Orleans', 'Mahatma_Gandhi', 'Mahatma_Gandhi', 'Mahatma_Gandhi', 'Electron_beam_welding', 'Gas', 'Gas', 'Costa_Rica', 'Costa_Rica', 'Costa_Rica', 'Jurassic', 'Serbia_and_Montenegro', 'Edinburgh', 'Edinburgh', 'The_Holocaust', 'Shaka', 'Shaka', 'Shaka', 'Shaka', 'Stone_Age', 'Pikachu', 'Shetland', 'Pikachu', 'Pikachu', 'Adolf_Hitler', 'Adolf_Hitler', 'Adolf_Hitler', 'Adolf_Hitler', 'Adolf_Hitler', 'Adolf_Hitler', 'Adolf_Hitler', 'Adolf_Hitler', 'Adolf_Hitler', 'Adolf_Hitler', 'Adolf_Hitler', 'Adolf_Hitler', 'Adolf_Hitler', 'Adolf_Hitler', 'Radio_telescope', 'Radio_telescope', 'Erwin_Rommel', 'Pikachu', 'Pikachu', 'Pikachu', 'Axe', 'Cricket', 'Esperanto', 'Adolf_Hitler', 'Adolf_Hitler', 'Sickle-cell_disease', 'Sickle-cell_disease', 'Muhammad_Iqbal', 'F-4_Phantom_II', 'Igor_Stravinsky', 'Igor_Stravinsky', 'Felix_the_Cat', 'Slavic_mythology', 'Slavic_mythology', 'Mount_Everest', 'Mount_Everest', 'Arctic_Circle', 'Brain', 'Flag_of_Australia', 'Flag_of_Australia', 'Soil_moisture', 'Soil_moisture', 'Soil_pH', 'Soil_pH', 'Soil_pH', 'Comet_Hale-Bopp', 'Tribe', 'Tribe', 'Tribe', 'Football', 'Aircraft_carrier', 'Stargate_SG-1', 'Sparrow', 'Mind', 'Mind', 'French_Guiana', 'French_Guiana', 'Politics', 'Andes', 'Andes', 'Andes', 'Spring_Heeled_Jack', 'Spring_Heeled_Jack', 'Andes', 'Spring_Heeled_Jack', 'Spring_Heeled_Jack', 'Stanley_Baldwin', 'Christina_Aguilera', 'Christina_Aguilera', 'Christina_Aguilera', 'Gender', 'CS_gas', 'CS_gas', 'CS_gas', 'CS_gas', 'Giant_Panda', 'Giant_Panda', 'Giant_Panda', 'Giant_Panda', 'Giant_Panda', 'House_of_Lords', 'Ronald_Reagan', 'Sundew', 'Erie_Canal', 'Erie_Canal', 'Erie_Canal', 'Super_Bowl_XL', 'Niger_River', 'Tigris', 'Church_of_England', 'Cotton', 'Noam_Chomsky', 'Golden_Eagle', 'Golden_Eagle', 'Super_Mario_Bros.', 'Super_Mario_Bros.', 'Super_Mario_Bros.', 'Super_Mario_Bros.', 'Super_Mario_Bros.', 'Super_Mario_Bros.', 'Super_Mario_Bros.', 'Super_Mario_Bros.', 'Super_Mario_Bros.', 'Super_Mario_Bros.', 'Kyoto_Protocol', 'Kyoto_Protocol', 'Super_Mario_Bros.', 'French_Southern_and_Antarctic_Lands', 'Surtsey', 'Grand_Central_Terminal', 'Grand_Central_Terminal', 'Svalbard', 'Orca', 'Orca', 'Orca', 'Orca', 'Swallow', 'Great_Pyramid_of_Giza', 'Periodic_table', 'Peru', 'Peru', 'Grover_Cleveland', 'Grover_Cleveland', 'Tripitaka', 'Tripitaka', 'Tripitaka', 'Sydney', 'Sydney', 'Sydney', 'Sydney', 'Gibraltar', 'Potato', 'Potato', 'Potato', 'Potato', 'Potato', 'Potato', 'Kofi_Annan', 'Kofi_Annan', 'Thalassemia', 'Star_Wars', 'Harley-Davidson', 'Thulium', 'Thulium', 'Reptile', 'Reptile', 'Reptile', 'Reptile', 'Reptile', 'Reptile', 'Reptile', 'Reptile', 'Reptile', 'Reptile', 'Reptile', 'Reptile', 'Reptile', 'Reptile', 'Reptile', 'Concorde', 'Europium', 'Europium', 'Europium', 'Samarium', '19th_century', 'The_Iron_Bridge', 'Robinson_Crusoe', 'Hawk-Eye', 'Hawk-Eye', 'Hawk-Eye', 'Hawk-Eye', 'Oppression', 'Hebrew_calendar', 'Sauroposeidon', 'The_Shawshank_Redemption', 'Science', 'Science', 'Science', 'Science', 'Helsinki', 'Helsinki', 'Helsinki', 'Helsinki', 'Gulf_of_Mexico', 'Gulf_of_Mexico', 'Gulf_of_Mexico', 'Gulf_of_Mexico', 'Gulf_of_Mexico', 'Scotland', 'Henry_Morrison_Flagler', 'Arugula', 'Arugula', '16_Cygni_Bb', '16_Cygni_Bb', 'Tour_de_France', 'Space_Shuttle_program', 'Space_Shuttle_program', 'Space_Shuttle_program', 'Space_Shuttle_program', 'Chew_Valley_Lake', 'Chew_Valley_Lake', 'Chew_Valley_Lake', 'Chew_Valley_Lake', 'History_of_Greece', 'Bog', 'Superman', 'Genealogy', 'Genealogy', 'Igneous_rock', 'Entropy', 'Confucius', 'Elvis_Presley', 'Supply_and_demand', 'Supply_and_demand', 'Supply_and_demand', 'Supply_and_demand', 'Hurricane_Charley', 'The_Lord_of_the_Rings_film_trilogy', 'Hurricane_David', 'The_Origin_of_Species', 'David_Heymann', 'Halfbeak', 'Halfbeak', 'Halfbeak', 'Fundamental_theorem_of_arithmetic', 'Fundamental_theorem_of_arithmetic', 'Turks_and_Caicos_Islands', 'Turks_and_Caicos_Islands', 'United_Kingdom', 'List_of_Prime_Ministers_of_the_United_Kingdom', 'United_States_Declaration_of_Independence', 'Vegetable', 'Vegetable']\n"
     ]
    },
    {
     "name": "stderr",
     "output_type": "stream",
     "text": [
      "\n"
     ]
    }
   ],
   "source": [
    "# Find all the path containing a people as final target and exctrant the starting article corresponding to it \n",
    "people_target_finish = []\n",
    "index_target = []\n",
    "\n",
    "start_finish= []\n",
    "\n",
    "for index, row in tqdm(people_path.iterrows()):\n",
    "    no_none_value = [value for value in row if value != None]\n",
    "    if no_none_value[-1] in people_name.tolist() :\n",
    "        people_target_finish.append(no_none_value[-1])\n",
    "        index_target.append(index)\n",
    "        start_finish.append(no_none_value[0])\n",
    "\n",
    "\n",
    "print(people_target_finish)\n",
    "print(index_target)\n",
    "print(start_finish)"
   ]
  },
  {
   "cell_type": "code",
   "execution_count": 309,
   "metadata": {},
   "outputs": [],
   "source": [
    "white_people = people_color[people_color['Skin Color'] == 'White']['People'].tolist()\n",
    "arab_people = people_color[people_color['Skin Color'] == 'Arab']['People'].tolist()\n",
    "black_people = people_color[people_color['Skin Color'] == 'Black']['People'].tolist()\n",
    "east_asian_people = people_color[people_color['Skin Color'] == 'East Asian']['People'].tolist()\n",
    "\n",
    "white_index =[]\n",
    "arab_index =[]\n",
    "black_index =[]\n",
    "east_asian_index =[]\n",
    "\n",
    "for i in range(0, len(index_target)):\n",
    "    if people_target_finish[i] in white_people :\n",
    "        white_index.append(index_target[i])\n",
    "\n",
    "    if people_target_finish[i] in east_asian_people :\n",
    "        east_asian_index.append(index_target[i])\n",
    "\n",
    "    if people_target_finish[i] in arab_people:\n",
    "        arab_index.append(index_target[i])\n",
    "\n",
    "    if people_target_finish[i] in black_people :\n",
    "        black_index.append(index_target[i])\n"
   ]
  },
  {
   "cell_type": "code",
   "execution_count": 310,
   "metadata": {},
   "outputs": [
    {
     "data": {
      "text/html": [
       "<div>\n",
       "<style scoped>\n",
       "    .dataframe tbody tr th:only-of-type {\n",
       "        vertical-align: middle;\n",
       "    }\n",
       "\n",
       "    .dataframe tbody tr th {\n",
       "        vertical-align: top;\n",
       "    }\n",
       "\n",
       "    .dataframe thead th {\n",
       "        text-align: right;\n",
       "    }\n",
       "</style>\n",
       "<table border=\"1\" class=\"dataframe\">\n",
       "  <thead>\n",
       "    <tr style=\"text-align: right;\">\n",
       "      <th></th>\n",
       "      <th>People</th>\n",
       "      <th>Count</th>\n",
       "      <th>Skin Color</th>\n",
       "      <th>2</th>\n",
       "    </tr>\n",
       "  </thead>\n",
       "  <tbody>\n",
       "    <tr>\n",
       "      <th>0</th>\n",
       "      <td>Jesus</td>\n",
       "      <td>197</td>\n",
       "      <td>Arab</td>\n",
       "      <td>Religious_figures_and_leaders</td>\n",
       "    </tr>\n",
       "    <tr>\n",
       "      <th>1</th>\n",
       "      <td>Socrates</td>\n",
       "      <td>46</td>\n",
       "      <td>White</td>\n",
       "      <td>Philosophers</td>\n",
       "    </tr>\n",
       "    <tr>\n",
       "      <th>2</th>\n",
       "      <td>Muhammad</td>\n",
       "      <td>43</td>\n",
       "      <td>Arab</td>\n",
       "      <td>Religious_figures_and_leaders</td>\n",
       "    </tr>\n",
       "    <tr>\n",
       "      <th>3</th>\n",
       "      <td>Buddha</td>\n",
       "      <td>33</td>\n",
       "      <td>East Asian</td>\n",
       "      <td>Religious_figures_and_leaders</td>\n",
       "    </tr>\n",
       "    <tr>\n",
       "      <th>4</th>\n",
       "      <td>Aristotle</td>\n",
       "      <td>31</td>\n",
       "      <td>White</td>\n",
       "      <td>Philosophers</td>\n",
       "    </tr>\n",
       "    <tr>\n",
       "      <th>5</th>\n",
       "      <td>Confucius</td>\n",
       "      <td>28</td>\n",
       "      <td>East Asian</td>\n",
       "      <td>Philosophers</td>\n",
       "    </tr>\n",
       "    <tr>\n",
       "      <th>6</th>\n",
       "      <td>Hippocrates</td>\n",
       "      <td>25</td>\n",
       "      <td>White</td>\n",
       "      <td>Human_Scientists</td>\n",
       "    </tr>\n",
       "    <tr>\n",
       "      <th>7</th>\n",
       "      <td>Plato</td>\n",
       "      <td>22</td>\n",
       "      <td>White</td>\n",
       "      <td>Philosophers</td>\n",
       "    </tr>\n",
       "    <tr>\n",
       "      <th>8</th>\n",
       "      <td>Pythagoras</td>\n",
       "      <td>20</td>\n",
       "      <td>White</td>\n",
       "      <td>Mathematicians</td>\n",
       "    </tr>\n",
       "    <tr>\n",
       "      <th>9</th>\n",
       "      <td>Agamemnon</td>\n",
       "      <td>19</td>\n",
       "      <td>White</td>\n",
       "      <td>Historical_figures</td>\n",
       "    </tr>\n",
       "    <tr>\n",
       "      <th>10</th>\n",
       "      <td>Homer</td>\n",
       "      <td>18</td>\n",
       "      <td>White</td>\n",
       "      <td>Writers_and_critics</td>\n",
       "    </tr>\n",
       "    <tr>\n",
       "      <th>11</th>\n",
       "      <td>Michelangelo</td>\n",
       "      <td>17</td>\n",
       "      <td>White</td>\n",
       "      <td>Artists</td>\n",
       "    </tr>\n",
       "    <tr>\n",
       "      <th>12</th>\n",
       "      <td>Isaac</td>\n",
       "      <td>14</td>\n",
       "      <td>White</td>\n",
       "      <td>Religious_figures_and_leaders</td>\n",
       "    </tr>\n",
       "    <tr>\n",
       "      <th>13</th>\n",
       "      <td>Helen</td>\n",
       "      <td>12</td>\n",
       "      <td>White</td>\n",
       "      <td>Historical_figures</td>\n",
       "    </tr>\n",
       "    <tr>\n",
       "      <th>14</th>\n",
       "      <td>Augustus</td>\n",
       "      <td>11</td>\n",
       "      <td>White</td>\n",
       "      <td>Historical_figures</td>\n",
       "    </tr>\n",
       "    <tr>\n",
       "      <th>15</th>\n",
       "      <td>Ptolemy</td>\n",
       "      <td>11</td>\n",
       "      <td>White</td>\n",
       "      <td>Astronomers_and_physicists</td>\n",
       "    </tr>\n",
       "    <tr>\n",
       "      <th>16</th>\n",
       "      <td>Shaka</td>\n",
       "      <td>11</td>\n",
       "      <td>Black</td>\n",
       "      <td>Historical_figures</td>\n",
       "    </tr>\n",
       "    <tr>\n",
       "      <th>17</th>\n",
       "      <td>Claudius</td>\n",
       "      <td>11</td>\n",
       "      <td>White</td>\n",
       "      <td>Historical_figures</td>\n",
       "    </tr>\n",
       "    <tr>\n",
       "      <th>18</th>\n",
       "      <td>Charlemagne</td>\n",
       "      <td>10</td>\n",
       "      <td>White</td>\n",
       "      <td>Historical_figures</td>\n",
       "    </tr>\n",
       "    <tr>\n",
       "      <th>19</th>\n",
       "      <td>Elagabalus</td>\n",
       "      <td>9</td>\n",
       "      <td>Black</td>\n",
       "      <td>Historical_figures</td>\n",
       "    </tr>\n",
       "    <tr>\n",
       "      <th>20</th>\n",
       "      <td>Hirohito</td>\n",
       "      <td>9</td>\n",
       "      <td>East Asian</td>\n",
       "      <td>Political_People</td>\n",
       "    </tr>\n",
       "    <tr>\n",
       "      <th>21</th>\n",
       "      <td>Archimedes</td>\n",
       "      <td>9</td>\n",
       "      <td>White</td>\n",
       "      <td>Mathematicians</td>\n",
       "    </tr>\n",
       "    <tr>\n",
       "      <th>22</th>\n",
       "      <td>Raphael</td>\n",
       "      <td>9</td>\n",
       "      <td>White</td>\n",
       "      <td>Artists</td>\n",
       "    </tr>\n",
       "    <tr>\n",
       "      <th>23</th>\n",
       "      <td>Saladin</td>\n",
       "      <td>8</td>\n",
       "      <td>Black</td>\n",
       "      <td>Historical_figures</td>\n",
       "    </tr>\n",
       "    <tr>\n",
       "      <th>24</th>\n",
       "      <td>Euclid</td>\n",
       "      <td>8</td>\n",
       "      <td>White</td>\n",
       "      <td>Mathematicians</td>\n",
       "    </tr>\n",
       "    <tr>\n",
       "      <th>25</th>\n",
       "      <td>Hatshepsut</td>\n",
       "      <td>8</td>\n",
       "      <td>Black</td>\n",
       "      <td>Historical_figures</td>\n",
       "    </tr>\n",
       "    <tr>\n",
       "      <th>26</th>\n",
       "      <td>Laozi</td>\n",
       "      <td>7</td>\n",
       "      <td>East Asian</td>\n",
       "      <td>Philosophers</td>\n",
       "    </tr>\n",
       "    <tr>\n",
       "      <th>27</th>\n",
       "      <td>Pericles</td>\n",
       "      <td>6</td>\n",
       "      <td>White</td>\n",
       "      <td>Military_People</td>\n",
       "    </tr>\n",
       "    <tr>\n",
       "      <th>28</th>\n",
       "      <td>Voltaire</td>\n",
       "      <td>6</td>\n",
       "      <td>White</td>\n",
       "      <td>Writers_and_critics</td>\n",
       "    </tr>\n",
       "    <tr>\n",
       "      <th>29</th>\n",
       "      <td>Virgil</td>\n",
       "      <td>6</td>\n",
       "      <td>White</td>\n",
       "      <td>Writers_and_critics</td>\n",
       "    </tr>\n",
       "    <tr>\n",
       "      <th>30</th>\n",
       "      <td>Heraclius</td>\n",
       "      <td>6</td>\n",
       "      <td>Black</td>\n",
       "      <td>Historical_figures</td>\n",
       "    </tr>\n",
       "    <tr>\n",
       "      <th>31</th>\n",
       "      <td>Babur</td>\n",
       "      <td>5</td>\n",
       "      <td>Black</td>\n",
       "      <td>Historical_figures</td>\n",
       "    </tr>\n",
       "    <tr>\n",
       "      <th>32</th>\n",
       "      <td>Demosthenes</td>\n",
       "      <td>5</td>\n",
       "      <td>White</td>\n",
       "      <td>Historical_figures</td>\n",
       "    </tr>\n",
       "    <tr>\n",
       "      <th>33</th>\n",
       "      <td>Alcibiades</td>\n",
       "      <td>5</td>\n",
       "      <td>White</td>\n",
       "      <td>Historical_figures</td>\n",
       "    </tr>\n",
       "    <tr>\n",
       "      <th>34</th>\n",
       "      <td>Akhenaten</td>\n",
       "      <td>5</td>\n",
       "      <td>Black</td>\n",
       "      <td>Historical_figures</td>\n",
       "    </tr>\n",
       "    <tr>\n",
       "      <th>35</th>\n",
       "      <td>Columba</td>\n",
       "      <td>5</td>\n",
       "      <td>White</td>\n",
       "      <td>Religious_figures_and_leaders</td>\n",
       "    </tr>\n",
       "    <tr>\n",
       "      <th>36</th>\n",
       "      <td>Timur</td>\n",
       "      <td>5</td>\n",
       "      <td>Black</td>\n",
       "      <td>Historical_figures</td>\n",
       "    </tr>\n",
       "    <tr>\n",
       "      <th>37</th>\n",
       "      <td>Boudica</td>\n",
       "      <td>5</td>\n",
       "      <td>White</td>\n",
       "      <td>Historical_figures</td>\n",
       "    </tr>\n",
       "    <tr>\n",
       "      <th>38</th>\n",
       "      <td>Jocelin</td>\n",
       "      <td>4</td>\n",
       "      <td>White</td>\n",
       "      <td>Religious_figures_and_leaders</td>\n",
       "    </tr>\n",
       "    <tr>\n",
       "      <th>39</th>\n",
       "      <td>Zoroaster</td>\n",
       "      <td>4</td>\n",
       "      <td>Arab</td>\n",
       "      <td>Religious_figures_and_leaders</td>\n",
       "    </tr>\n",
       "    <tr>\n",
       "      <th>40</th>\n",
       "      <td>H.D.</td>\n",
       "      <td>4</td>\n",
       "      <td>White</td>\n",
       "      <td>Writers_and_critics</td>\n",
       "    </tr>\n",
       "    <tr>\n",
       "      <th>41</th>\n",
       "      <td>Thrasybulus</td>\n",
       "      <td>4</td>\n",
       "      <td>White</td>\n",
       "      <td>Military_People</td>\n",
       "    </tr>\n",
       "  </tbody>\n",
       "</table>\n",
       "</div>"
      ],
      "text/plain": [
       "          People  Count  Skin Color                              2\n",
       "0          Jesus    197        Arab  Religious_figures_and_leaders\n",
       "1       Socrates     46       White                   Philosophers\n",
       "2       Muhammad     43        Arab  Religious_figures_and_leaders\n",
       "3         Buddha     33  East Asian  Religious_figures_and_leaders\n",
       "4      Aristotle     31       White                   Philosophers\n",
       "5      Confucius     28  East Asian                   Philosophers\n",
       "6    Hippocrates     25       White               Human_Scientists\n",
       "7          Plato     22       White                   Philosophers\n",
       "8     Pythagoras     20       White                 Mathematicians\n",
       "9      Agamemnon     19       White             Historical_figures\n",
       "10         Homer     18       White            Writers_and_critics\n",
       "11  Michelangelo     17       White                        Artists\n",
       "12         Isaac     14       White  Religious_figures_and_leaders\n",
       "13         Helen     12       White             Historical_figures\n",
       "14      Augustus     11       White             Historical_figures\n",
       "15       Ptolemy     11       White     Astronomers_and_physicists\n",
       "16         Shaka     11       Black             Historical_figures\n",
       "17      Claudius     11       White             Historical_figures\n",
       "18   Charlemagne     10       White             Historical_figures\n",
       "19    Elagabalus      9       Black             Historical_figures\n",
       "20      Hirohito      9  East Asian               Political_People\n",
       "21    Archimedes      9       White                 Mathematicians\n",
       "22       Raphael      9       White                        Artists\n",
       "23       Saladin      8       Black             Historical_figures\n",
       "24        Euclid      8       White                 Mathematicians\n",
       "25    Hatshepsut      8       Black             Historical_figures\n",
       "26         Laozi      7  East Asian                   Philosophers\n",
       "27      Pericles      6       White                Military_People\n",
       "28      Voltaire      6       White            Writers_and_critics\n",
       "29        Virgil      6       White            Writers_and_critics\n",
       "30     Heraclius      6       Black             Historical_figures\n",
       "31         Babur      5       Black             Historical_figures\n",
       "32   Demosthenes      5       White             Historical_figures\n",
       "33    Alcibiades      5       White             Historical_figures\n",
       "34     Akhenaten      5       Black             Historical_figures\n",
       "35       Columba      5       White  Religious_figures_and_leaders\n",
       "36         Timur      5       Black             Historical_figures\n",
       "37       Boudica      5       White             Historical_figures\n",
       "38       Jocelin      4       White  Religious_figures_and_leaders\n",
       "39     Zoroaster      4        Arab  Religious_figures_and_leaders\n",
       "40          H.D.      4       White            Writers_and_critics\n",
       "41   Thrasybulus      4       White                Military_People"
      ]
     },
     "execution_count": 310,
     "metadata": {},
     "output_type": "execute_result"
    }
   ],
   "source": [
    "#Count how many times each people are target\n",
    "people_target_count = pd.Series(people_target_finish).value_counts().reset_index()\n",
    "people_target_count.columns =['People', 'Count']\n",
    "\n",
    "#Merge with the original color_people dataframe to have the informations on the ethnicity and category\n",
    "people_target_df = people_target_count.merge(people_color)\n",
    "people_target_df"
   ]
  },
  {
   "cell_type": "code",
   "execution_count": 311,
   "metadata": {},
   "outputs": [
    {
     "name": "stderr",
     "output_type": "stream",
     "text": [
      "No handles with labels found to put in legend.\n"
     ]
    },
    {
     "data": {
      "text/plain": [
       "<matplotlib.legend.Legend at 0x246311cff40>"
      ]
     },
     "execution_count": 311,
     "metadata": {},
     "output_type": "execute_result"
    },
    {
     "data": {
      "image/png": "[encoded data removed]",
      "text/plain": [
       "<Figure size 1080x576 with 1 Axes>"
      ]
     },
     "metadata": {
      "needs_background": "light"
     },
     "output_type": "display_data"
    }
   ],
   "source": [
    "#Vizualise the data \n",
    "people_target_df = people_target_df.sort_values(by = 'Skin Color')\n",
    "couleur = ['darksalmon' if ethnic == 'Arab' else 'maroon' if  ethnic == 'Black' else 'sandybrown' if ethnic == 'East Asian' \n",
    "           else 'peachpuff' for ethnic in people_target_df['Skin Color']]\n",
    "\n",
    "plt.figure(figsize=(15, 8)) \n",
    "plt.bar(people_target_df['People'], people_target_df['Count'], color = couleur)\n",
    "plt.xticks(rotation='vertical')\n",
    "plt.legend()\n",
    "\n",
    "#AFFICHER LA LEGENDE "
   ]
  },
  {
   "cell_type": "markdown",
   "metadata": {},
   "source": [
    "So we clearly see, that white people dominate the target of the game with in second positions black people and then east asian an arab people. Some ethnics groups are not even represented in the target such as south east people. One person is highly target it is Jesus.  \n",
    "ATTENTION ERREUR : EXEMPLE ADOLF HILTER N'APPARAIT PAS ALORS QU'IL EST LE TARGET DE BCP DE PARTIE"
   ]
  },
  {
   "cell_type": "markdown",
   "metadata": {},
   "source": [
    "4. Study of the difficulty depending on the ethnics groups of the target"
   ]
  },
  {
   "cell_type": "code",
   "execution_count": 312,
   "metadata": {},
   "outputs": [],
   "source": [
    "#Create dataframe containing the games informations for each ethnics groups target\n",
    "target_white_path = paths_finishedDf.loc[white_index]\n",
    "target_arab_path = paths_finishedDf.loc[arab_index]\n",
    "target_black_path = paths_finishedDf.loc[black_index]\n",
    "target_eastasian_path = paths_finishedDf.loc[east_asian_index]\n"
   ]
  },
  {
   "cell_type": "code",
   "execution_count": 313,
   "metadata": {},
   "outputs": [
    {
     "name": "stdout",
     "output_type": "stream",
     "text": [
      "2.31924882629108\n",
      "1.8130081300813008\n",
      "2.5675675675675675\n",
      "2.0\n"
     ]
    }
   ],
   "source": [
    "#Mean difficulty (rated by the players)\n",
    "white_mean_diff = target_white_path['rating'].mean(skipna = True)\n",
    "arab_mean_diff = target_arab_path['rating'].mean(skipna = True)\n",
    "black_mean_diff = target_black_path['rating'].mean(skipna = True)\n",
    "eastasian_mean_diff = target_eastasian_path['rating'].mean(skipna = True)\n",
    "\n",
    "print(white_mean_diff)\n",
    "print(arab_mean_diff)\n",
    "print(black_mean_diff)\n",
    "print(eastasian_mean_diff)"
   ]
  },
  {
   "cell_type": "markdown",
   "metadata": {},
   "source": [
    "Looking at this first estimation, it is difficult to say if white people target's path are less difficult than the others. Indeed, path with for target black people seems the more difficult whereas the one targeting arab people are the easier. So those results can't lead to a conclusion."
   ]
  },
  {
   "cell_type": "code",
   "execution_count": 314,
   "metadata": {},
   "outputs": [
    {
     "name": "stdout",
     "output_type": "stream",
     "text": [
      "164.2274052478134\n",
      "93.32377049180327\n",
      "152.98245614035088\n",
      "136.3116883116883\n"
     ]
    }
   ],
   "source": [
    "#Mean duration time for the different ethnics groups target\n",
    "white_mean_duration= target_white_path['durationInSec'].mean(skipna = True)\n",
    "arab_mean_duration = target_arab_path['durationInSec'].mean(skipna = True)\n",
    "black_mean_duration = target_black_path['durationInSec'].mean(skipna = True)\n",
    "eastasian_mean_duration = target_eastasian_path['durationInSec'].mean(skipna = True)\n",
    "\n",
    "print(white_mean_duration)\n",
    "print(arab_mean_duration)\n",
    "print(black_mean_duration)\n",
    "print(eastasian_mean_duration)"
   ]
  },
  {
   "cell_type": "markdown",
   "metadata": {},
   "source": [
    "The mean duration of the games shows thats the shortest games are the one where arab people are target. This result is consistent with the previous computation of mean difficulty, even if it was quite unexpected. It is difficult to draw conclusions from the other results."
   ]
  },
  {
   "cell_type": "markdown",
   "metadata": {},
   "source": [
    "A good way to compare the difficulty between the different pathway would be to compare the victory and the defeat games. "
   ]
  },
  {
   "cell_type": "code",
   "execution_count": 315,
   "metadata": {},
   "outputs": [
    {
     "name": "stdout",
     "output_type": "stream",
     "text": [
      "83        Archimedes\n",
      "338            Isaac\n",
      "481          Boudica\n",
      "498      Hippocrates\n",
      "758          Boudica\n",
      "            ...     \n",
      "24114          Jesus\n",
      "24338     Archimedes\n",
      "24423    Hippocrates\n",
      "24425        Boudica\n",
      "24433       Muhammad\n",
      "Name: target, Length: 206, dtype: object\n"
     ]
    }
   ],
   "source": [
    "unfinished_target_people = paths_unfinishedDf[paths_unfinishedDf['target'].isin(people_name)]\n",
    "\n",
    "index_target_unfinish = unfinished_target_people.index\n",
    "target_unfinish = unfinished_target_people['target']\n",
    "print(target_unfinish)\n",
    "\n",
    "unfinish = unfinished_target_people['target'].value_counts().reset_index()\n",
    "unfinish.columns = ['People', 'Count']\n",
    "\n",
    "#Merge with the original color_people dataframe to have the informations on the ethnicity and category\n",
    "people_target_unfinish = unfinish.merge(people_color)\n"
   ]
  },
  {
   "cell_type": "code",
   "execution_count": 316,
   "metadata": {},
   "outputs": [
    {
     "name": "stderr",
     "output_type": "stream",
     "text": [
      "No handles with labels found to put in legend.\n"
     ]
    },
    {
     "data": {
      "text/plain": [
       "<matplotlib.legend.Legend at 0x24631049a90>"
      ]
     },
     "execution_count": 316,
     "metadata": {},
     "output_type": "execute_result"
    },
    {
     "data": {
      "image/png": "[encoded data removed]",
      "text/plain": [
       "<Figure size 1080x576 with 1 Axes>"
      ]
     },
     "metadata": {
      "needs_background": "light"
     },
     "output_type": "display_data"
    }
   ],
   "source": [
    "#Vizualise the data \n",
    "people_target_unfinish = people_target_unfinish.sort_values(by = 'Skin Color')\n",
    "couleur = ['darksalmon' if ethnic == 'Arab' else 'maroon' if  ethnic == 'Black' else 'sandybrown' if ethnic == 'East Asian' \n",
    "           else 'peachpuff' for ethnic in people_target_unfinish['Skin Color']]\n",
    "\n",
    "plt.figure(figsize=(15, 8)) \n",
    "plt.bar(people_target_unfinish['People'], people_target_unfinish['Count'], color = couleur)\n",
    "plt.xticks(rotation='vertical')\n",
    "plt.legend()"
   ]
  },
  {
   "cell_type": "markdown",
   "metadata": {},
   "source": [
    "So the distribution is quite the same for victory and defeat. Indeed, few more names appears for black people in the defeat. So at first sight the ethnicity does not seems to impact the finality of the games. But, this is just superficial result, we need to go further in details and in statistics test to take conclusion."
   ]
  },
  {
   "cell_type": "markdown",
   "metadata": {},
   "source": [
    "There are some CONFOUNDERS that can affect the finality of the games to victory or defeat : \n",
    "- players skills \n",
    "- length of the shortest path\n",
    "- difficulty of the propose games (source and target)\n",
    "\n",
    "We need to fixed those confounders to compute a better analysis.  \n",
    "\n",
    "**1st possibility** : Compare path with the same beginning article and target article in paths_finished and paths_unfinished. \n",
    "\n",
    "**2nd possibility** : Compare only the pathways realised from the same source.\n",
    "\n",
    "**3rd possibility** : Compare only the pathways realised from the same source and with the same shortest path length."
   ]
  },
  {
   "cell_type": "markdown",
   "metadata": {},
   "source": [
    "**1ST POSSIBILITY**"
   ]
  },
  {
   "cell_type": "code",
   "execution_count": 317,
   "metadata": {},
   "outputs": [],
   "source": [
    "#Create a dataframe with the path unfinished decompose (each cells represents one article of the paths)\n",
    "path_unfinished=  paths_unfinishedDf['path'].str.split(\";\", expand=True)"
   ]
  },
  {
   "cell_type": "code",
   "execution_count": 318,
   "metadata": {},
   "outputs": [
    {
     "name": "stdout",
     "output_type": "stream",
     "text": [
      "83                        Europe\n",
      "338                        Qatar\n",
      "481           Bottlenose_Dolphin\n",
      "498            Tourette_syndrome\n",
      "758                         IPod\n",
      "                  ...           \n",
      "24114               Adolf_Hitler\n",
      "24338     Southern_United_States\n",
      "24423    List_of_Asian_countries\n",
      "24425      To_Kill_a_Mockingbird\n",
      "24433             Carbon_dioxide\n",
      "Name: 0, Length: 206, dtype: object\n"
     ]
    }
   ],
   "source": [
    "#Only keep the line of the dataframe unfinish which target a person \n",
    "unfinish_target_people = path_unfinished.loc[index_target_unfinish]\n",
    "\n",
    "#extract the start article of this dataframe\n",
    "start_unfinish= unfinish_target_people[0]\n",
    "print(start_unfinish)"
   ]
  },
  {
   "cell_type": "code",
   "execution_count": 319,
   "metadata": {},
   "outputs": [],
   "source": [
    "#Create two dataframe : containing start and end of pathway which target people for defeat and victory\n",
    "defeat = pd.concat([start_unfinish, target_unfinish], axis=1)\n",
    "victory = pd.concat([pd.Series(start_finish), pd.Series(people_target_finish)], axis=1)\n",
    "\n",
    "defeat = defeat.rename(columns= {0 : 'start'})\n",
    "victory = victory.rename(columns= {0 : 'start', 1 : 'target'})"
   ]
  },
  {
   "cell_type": "markdown",
   "metadata": {},
   "source": [
    "So now, we have dataframe for victory and defeat where the final article is People. As many confounders can affect the finality of the game, it can be a good solution to select the data with the same characteristics. \n",
    "A solution would be to keep only the data with the same start and target and count the victory and defeat in each case"
   ]
  },
  {
   "cell_type": "code",
   "execution_count": 320,
   "metadata": {},
   "outputs": [
    {
     "data": {
      "text/html": [
       "<div>\n",
       "<style scoped>\n",
       "    .dataframe tbody tr th:only-of-type {\n",
       "        vertical-align: middle;\n",
       "    }\n",
       "\n",
       "    .dataframe tbody tr th {\n",
       "        vertical-align: top;\n",
       "    }\n",
       "\n",
       "    .dataframe thead th {\n",
       "        text-align: right;\n",
       "    }\n",
       "</style>\n",
       "<table border=\"1\" class=\"dataframe\">\n",
       "  <thead>\n",
       "    <tr style=\"text-align: right;\">\n",
       "      <th></th>\n",
       "      <th>Start</th>\n",
       "      <th>target</th>\n",
       "      <th>Victory</th>\n",
       "      <th>Defeat</th>\n",
       "      <th>Skin Color</th>\n",
       "      <th>Category</th>\n",
       "    </tr>\n",
       "  </thead>\n",
       "  <tbody>\n",
       "    <tr>\n",
       "      <th>0</th>\n",
       "      <td>AIDS</td>\n",
       "      <td>Jesus</td>\n",
       "      <td>17</td>\n",
       "      <td>8</td>\n",
       "      <td>Arab</td>\n",
       "      <td>Religious_figures_and_leaders</td>\n",
       "    </tr>\n",
       "    <tr>\n",
       "      <th>1</th>\n",
       "      <td>Adolf_Hitler</td>\n",
       "      <td>Jesus</td>\n",
       "      <td>15</td>\n",
       "      <td>6</td>\n",
       "      <td>Arab</td>\n",
       "      <td>Religious_figures_and_leaders</td>\n",
       "    </tr>\n",
       "    <tr>\n",
       "      <th>2</th>\n",
       "      <td>Reptile</td>\n",
       "      <td>Jesus</td>\n",
       "      <td>15</td>\n",
       "      <td>1</td>\n",
       "      <td>Arab</td>\n",
       "      <td>Religious_figures_and_leaders</td>\n",
       "    </tr>\n",
       "    <tr>\n",
       "      <th>3</th>\n",
       "      <td>Pikachu</td>\n",
       "      <td>Jesus</td>\n",
       "      <td>15</td>\n",
       "      <td>2</td>\n",
       "      <td>Arab</td>\n",
       "      <td>Religious_figures_and_leaders</td>\n",
       "    </tr>\n",
       "    <tr>\n",
       "      <th>4</th>\n",
       "      <td>Batman</td>\n",
       "      <td>Jesus</td>\n",
       "      <td>12</td>\n",
       "      <td>3</td>\n",
       "      <td>Arab</td>\n",
       "      <td>Religious_figures_and_leaders</td>\n",
       "    </tr>\n",
       "    <tr>\n",
       "      <th>...</th>\n",
       "      <td>...</td>\n",
       "      <td>...</td>\n",
       "      <td>...</td>\n",
       "      <td>...</td>\n",
       "      <td>...</td>\n",
       "      <td>...</td>\n",
       "    </tr>\n",
       "    <tr>\n",
       "      <th>61</th>\n",
       "      <td>Aircraft</td>\n",
       "      <td>Heraclius</td>\n",
       "      <td>1</td>\n",
       "      <td>1</td>\n",
       "      <td>Black</td>\n",
       "      <td>Historical_figures</td>\n",
       "    </tr>\n",
       "    <tr>\n",
       "      <th>62</th>\n",
       "      <td>Ichthyosaur</td>\n",
       "      <td>Saladin</td>\n",
       "      <td>1</td>\n",
       "      <td>1</td>\n",
       "      <td>Black</td>\n",
       "      <td>Historical_figures</td>\n",
       "    </tr>\n",
       "    <tr>\n",
       "      <th>63</th>\n",
       "      <td>Qin_Shi_Huang</td>\n",
       "      <td>Ptolemy</td>\n",
       "      <td>1</td>\n",
       "      <td>1</td>\n",
       "      <td>White</td>\n",
       "      <td>Astronomers_and_physicists</td>\n",
       "    </tr>\n",
       "    <tr>\n",
       "      <th>64</th>\n",
       "      <td>Croatia</td>\n",
       "      <td>Hirohito</td>\n",
       "      <td>1</td>\n",
       "      <td>1</td>\n",
       "      <td>East Asian</td>\n",
       "      <td>Political_People</td>\n",
       "    </tr>\n",
       "    <tr>\n",
       "      <th>65</th>\n",
       "      <td>Battle_of_Grunwald</td>\n",
       "      <td>Shaka</td>\n",
       "      <td>1</td>\n",
       "      <td>1</td>\n",
       "      <td>Black</td>\n",
       "      <td>Historical_figures</td>\n",
       "    </tr>\n",
       "  </tbody>\n",
       "</table>\n",
       "<p>66 rows × 6 columns</p>\n",
       "</div>"
      ],
      "text/plain": [
       "                 Start     target  Victory  Defeat  Skin Color  \\\n",
       "0                 AIDS      Jesus       17       8        Arab   \n",
       "1         Adolf_Hitler      Jesus       15       6        Arab   \n",
       "2              Reptile      Jesus       15       1        Arab   \n",
       "3              Pikachu      Jesus       15       2        Arab   \n",
       "4               Batman      Jesus       12       3        Arab   \n",
       "..                 ...        ...      ...     ...         ...   \n",
       "61            Aircraft  Heraclius        1       1       Black   \n",
       "62         Ichthyosaur    Saladin        1       1       Black   \n",
       "63       Qin_Shi_Huang    Ptolemy        1       1       White   \n",
       "64             Croatia   Hirohito        1       1  East Asian   \n",
       "65  Battle_of_Grunwald      Shaka        1       1       Black   \n",
       "\n",
       "                         Category  \n",
       "0   Religious_figures_and_leaders  \n",
       "1   Religious_figures_and_leaders  \n",
       "2   Religious_figures_and_leaders  \n",
       "3   Religious_figures_and_leaders  \n",
       "4   Religious_figures_and_leaders  \n",
       "..                            ...  \n",
       "61             Historical_figures  \n",
       "62             Historical_figures  \n",
       "63     Astronomers_and_physicists  \n",
       "64               Political_People  \n",
       "65             Historical_figures  \n",
       "\n",
       "[66 rows x 6 columns]"
      ]
     },
     "execution_count": 320,
     "metadata": {},
     "output_type": "execute_result"
    }
   ],
   "source": [
    "#Creating a dataframe with the similar games  won and loose and the amount of victory and defeat in those games.\n",
    "#Similar games = games with the same start and the same target\n",
    "\n",
    "df = pd.DataFrame()\n",
    "df['path'] = defeat.apply(lambda row : '-'.join(row.values.astype(str)), axis =1)\n",
    "defeat_count= df['path'].value_counts().reset_index()\n",
    "defeat_count.columns = ['Start-Target', 'Count']\n",
    "\n",
    "df1 = pd.DataFrame()\n",
    "df1['path'] = victory.apply(lambda row : '-'.join(row.values.astype(str)), axis =1)\n",
    "victory_count= df1['path'].value_counts().reset_index()\n",
    "victory_count.columns = ['Start-Target', 'Count']\n",
    "\n",
    "similar_game = pd.merge(victory_count, defeat_count, on = ['Start-Target'])\n",
    "similar_game = similar_game.rename(columns= {'Count_x' : 'Victory', 'Count_y' : 'Defeat'})\n",
    "similar_game = pd.concat([similar_game['Start-Target'].str.split(\"-\", expand=True), similar_game],axis = 1)\n",
    "similar_game = similar_game.drop(columns='Start-Target')\n",
    "similar_game = similar_game.rename(columns={0 : 'Start', 1 : 'People'})\n",
    "similar_game = similar_game.merge(people_color)\n",
    "similar_game = similar_game.rename(columns={'People' : 'target', 2 : 'Category'})\n",
    "\n",
    "similar_game"
   ]
  },
  {
   "cell_type": "code",
   "execution_count": 336,
   "metadata": {},
   "outputs": [
    {
     "name": "stdout",
     "output_type": "stream",
     "text": [
      "92\n",
      "56\n",
      "131\n",
      "45\n"
     ]
    }
   ],
   "source": [
    "others = similar_game[similar_game['Skin Color'] != 'White']\n",
    "white = similar_game[similar_game['Skin Color'] != 'Arab']\n",
    "white = white[white['Skin Color'] != 'Black']\n",
    "white = white[white['Skin Color'] != 'East Asian']\n",
    "\n",
    "vic_white = white['Victory'].sum()\n",
    "def_white = white['Defeat'].sum()\n",
    "vic_others = others['Victory'].sum()\n",
    "def_others = others['Defeat'].sum()\n",
    "print(vic_white)\n",
    "print(def_white)\n",
    "print(vic_others)\n",
    "print(def_others)"
   ]
  },
  {
   "cell_type": "code",
   "execution_count": 333,
   "metadata": {},
   "outputs": [
    {
     "data": {
      "text/plain": [
       "<AxesSubplot:xlabel='Target'>"
      ]
     },
     "execution_count": 333,
     "metadata": {},
     "output_type": "execute_result"
    },
    {
     "data": {
      "image/png": "[encoded data removed]",
      "text/plain": [
       "<Figure size 432x288 with 1 Axes>"
      ]
     },
     "metadata": {
      "needs_background": "light"
     },
     "output_type": "display_data"
    }
   ],
   "source": [
    "result = pd.DataFrame({\n",
    "    'Target' : ['white', 'Other'],\n",
    "    'Victory' : [vic_white, vic_others],\n",
    "    'Defeat' : [def_white, def_others]\n",
    "})\n",
    "\n",
    "result.plot(x='Target', y=['Victory', 'Defeat'], kind=\"bar\")"
   ]
  },
  {
   "cell_type": "markdown",
   "metadata": {},
   "source": [
    "To know if the target person ethnics group has an impact on the result of the game (victory or defeat), we can use a statistic test to compare the victory between both groups (white and others). For example, we can do a Chi-2 test with the following null hypothesis : \n",
    "- H0 : There is no significant differences in victories dependanding on the target people (white or others)' \n",
    "- H1 : There is a significant differences in victories depending on the target people (white or others)'\n",
    "\n",
    "|  | Victory | Defeat |\n",
    "|-----------|-----------|-----------|\n",
    "| Target White People  | 92    | 56    |\n",
    "| Target Other People   | 131    | 45    |"
   ]
  },
  {
   "cell_type": "code",
   "execution_count": 334,
   "metadata": {},
   "outputs": [
    {
     "name": "stdout",
     "output_type": "stream",
     "text": [
      "0.024152489574392567\n"
     ]
    }
   ],
   "source": [
    "#chi2 test\n",
    "contingency_table = [[vic_white, def_white], [vic_others, def_others]]\n",
    "\n",
    "_, p_value, _, _ = chi2_contingency(contingency_table)\n",
    "print(p_value)"
   ]
  },
  {
   "cell_type": "markdown",
   "metadata": {},
   "source": [
    "p-value<0.05,  so we can reject the null hypothesis \n"
   ]
  },
  {
   "cell_type": "markdown",
   "metadata": {},
   "source": [
    "**2ND POSSIBILITY :** \n",
    "\n",
    "So, we can change the constraint and  increase it in stages by starting with a small and easy one. \n",
    "- Considering all the path that target a people take paths with the same source.  \n"
   ]
  },
  {
   "cell_type": "markdown",
   "metadata": {},
   "source": [
    "So we need to control the confounders, to do so we have to match the data by creating pairs of paths to compare them. The target articles of the pairs are a white people article and an others ethnics groups article. The matching has to constraint following those parameters : \n",
    "\n",
    "- starting a path at the same source article (minimum requirement of matching)  \n"
   ]
  },
  {
   "cell_type": "code",
   "execution_count": 321,
   "metadata": {},
   "outputs": [],
   "source": [
    "#Create a dataframe with colonne : Start / Target / Target's Ethnicity / Victory or Defeat\n",
    "defeat = defeat.rename(columns={'target' : 'People'})\n",
    "defeat = pd.merge(defeat, people_color, on='People')\n",
    "defeat = defeat.rename(columns= {'People' : 'target', 2 :'Category', })\n",
    "\n",
    "victory = victory.rename(columns={'target' : 'People'})\n",
    "victory = pd.merge(victory, people_color, on='People')\n",
    "victory = victory.rename(columns= {'People' : 'target', 2 :'Category', })\n"
   ]
  },
  {
   "cell_type": "code",
   "execution_count": 322,
   "metadata": {},
   "outputs": [],
   "source": [
    "defeat['Result'] = 'defeat'\n",
    "victory['Result'] = 'victory'\n",
    "df = pd.concat([defeat, victory], axis = 0)"
   ]
  },
  {
   "cell_type": "code",
   "execution_count": 323,
   "metadata": {},
   "outputs": [
    {
     "data": {
      "text/html": [
       "<div>\n",
       "<style scoped>\n",
       "    .dataframe tbody tr th:only-of-type {\n",
       "        vertical-align: middle;\n",
       "    }\n",
       "\n",
       "    .dataframe tbody tr th {\n",
       "        vertical-align: top;\n",
       "    }\n",
       "\n",
       "    .dataframe thead th {\n",
       "        text-align: right;\n",
       "    }\n",
       "</style>\n",
       "<table border=\"1\" class=\"dataframe\">\n",
       "  <thead>\n",
       "    <tr style=\"text-align: right;\">\n",
       "      <th></th>\n",
       "      <th>start</th>\n",
       "      <th>white_skin_target</th>\n",
       "      <th>other_ethnics_target</th>\n",
       "      <th>result_white_target</th>\n",
       "      <th>result_other_target</th>\n",
       "    </tr>\n",
       "  </thead>\n",
       "  <tbody>\n",
       "    <tr>\n",
       "      <th>0</th>\n",
       "      <td>Reptile</td>\n",
       "      <td>Archimedes</td>\n",
       "      <td>Jesus</td>\n",
       "      <td>defeat</td>\n",
       "      <td>defeat</td>\n",
       "    </tr>\n",
       "    <tr>\n",
       "      <th>1</th>\n",
       "      <td>Reptile</td>\n",
       "      <td>Archimedes</td>\n",
       "      <td>Jesus</td>\n",
       "      <td>defeat</td>\n",
       "      <td>victory</td>\n",
       "    </tr>\n",
       "    <tr>\n",
       "      <th>2</th>\n",
       "      <td>Reptile</td>\n",
       "      <td>Archimedes</td>\n",
       "      <td>Jesus</td>\n",
       "      <td>defeat</td>\n",
       "      <td>victory</td>\n",
       "    </tr>\n",
       "    <tr>\n",
       "      <th>3</th>\n",
       "      <td>Reptile</td>\n",
       "      <td>Archimedes</td>\n",
       "      <td>Jesus</td>\n",
       "      <td>defeat</td>\n",
       "      <td>victory</td>\n",
       "    </tr>\n",
       "    <tr>\n",
       "      <th>4</th>\n",
       "      <td>Reptile</td>\n",
       "      <td>Archimedes</td>\n",
       "      <td>Jesus</td>\n",
       "      <td>defeat</td>\n",
       "      <td>victory</td>\n",
       "    </tr>\n",
       "    <tr>\n",
       "      <th>...</th>\n",
       "      <td>...</td>\n",
       "      <td>...</td>\n",
       "      <td>...</td>\n",
       "      <td>...</td>\n",
       "      <td>...</td>\n",
       "    </tr>\n",
       "    <tr>\n",
       "      <th>126</th>\n",
       "      <td>England</td>\n",
       "      <td>Charlemagne</td>\n",
       "      <td>Muhammad</td>\n",
       "      <td>victory</td>\n",
       "      <td>victory</td>\n",
       "    </tr>\n",
       "    <tr>\n",
       "      <th>127</th>\n",
       "      <td>Radio_telescope</td>\n",
       "      <td>Charlemagne</td>\n",
       "      <td>Buddha</td>\n",
       "      <td>victory</td>\n",
       "      <td>victory</td>\n",
       "    </tr>\n",
       "    <tr>\n",
       "      <th>128</th>\n",
       "      <td>Golden_Eagle</td>\n",
       "      <td>Euclid</td>\n",
       "      <td>Buddha</td>\n",
       "      <td>victory</td>\n",
       "      <td>victory</td>\n",
       "    </tr>\n",
       "    <tr>\n",
       "      <th>129</th>\n",
       "      <td>Grand_Central_Terminal</td>\n",
       "      <td>Plato</td>\n",
       "      <td>Buddha</td>\n",
       "      <td>victory</td>\n",
       "      <td>victory</td>\n",
       "    </tr>\n",
       "    <tr>\n",
       "      <th>130</th>\n",
       "      <td>Brush</td>\n",
       "      <td>Ptolemy</td>\n",
       "      <td>Zoroaster</td>\n",
       "      <td>victory</td>\n",
       "      <td>victory</td>\n",
       "    </tr>\n",
       "  </tbody>\n",
       "</table>\n",
       "<p>131 rows × 5 columns</p>\n",
       "</div>"
      ],
      "text/plain": [
       "                      start white_skin_target other_ethnics_target  \\\n",
       "0                   Reptile        Archimedes                Jesus   \n",
       "1                   Reptile        Archimedes                Jesus   \n",
       "2                   Reptile        Archimedes                Jesus   \n",
       "3                   Reptile        Archimedes                Jesus   \n",
       "4                   Reptile        Archimedes                Jesus   \n",
       "..                      ...               ...                  ...   \n",
       "126                 England       Charlemagne             Muhammad   \n",
       "127         Radio_telescope       Charlemagne               Buddha   \n",
       "128            Golden_Eagle            Euclid               Buddha   \n",
       "129  Grand_Central_Terminal             Plato               Buddha   \n",
       "130                   Brush           Ptolemy            Zoroaster   \n",
       "\n",
       "    result_white_target result_other_target  \n",
       "0                defeat              defeat  \n",
       "1                defeat             victory  \n",
       "2                defeat             victory  \n",
       "3                defeat             victory  \n",
       "4                defeat             victory  \n",
       "..                  ...                 ...  \n",
       "126             victory             victory  \n",
       "127             victory             victory  \n",
       "128             victory             victory  \n",
       "129             victory             victory  \n",
       "130             victory             victory  \n",
       "\n",
       "[131 rows x 5 columns]"
      ]
     },
     "execution_count": 323,
     "metadata": {},
     "output_type": "execute_result"
    }
   ],
   "source": [
    "#Create a function to match the data with the same source\n",
    "def matching(df):\n",
    "    white_skin = df[df['Skin Color'] == 'White']\n",
    "    other_ethnics = df[df['Skin Color'] != 'White']\n",
    "\n",
    "    matched_pairs = []\n",
    "    result =[]\n",
    "    for start in df['start'].unique():\n",
    "        white_targets = white_skin[white_skin['start'] == start]['target'].tolist()\n",
    "        non_white_targets = other_ethnics[other_ethnics['start'] == start]['target'].tolist()\n",
    "\n",
    "        result_white = white_skin[white_skin['start'] == start]['Result'].tolist()\n",
    "        result_others = other_ethnics[other_ethnics['start'] == start]['Result'].tolist()\n",
    "        # Créer des paires avec un élément de 'target' avec 'skin color' blanc et un avec un autre 'skin color'\n",
    "        for w in white_targets:\n",
    "            for nw in non_white_targets:\n",
    "                matched_pairs.append((start, w, nw))\n",
    "        \n",
    "        for i in result_white : \n",
    "            for j in result_others :\n",
    "                result.append((start, i, j))\n",
    "    \n",
    "    # Créer un DataFrame avec les paires créées\n",
    "    matched= pd.DataFrame(matched_pairs, columns=['start', 'white_skin_target', 'other_ethnics_target'])\n",
    "    result = pd.DataFrame(result, columns=['start', 'result_white_target', 'result_other_target'])\n",
    "\n",
    "    matched_df = pd.concat([matched, result], axis=1)\n",
    "    matched_df = matched_df.loc[:,~matched_df.columns.duplicated()]\n",
    "    return matched_df\n",
    "\n",
    "# Utiliser la fonction sur votre DataFrame\n",
    "# df est votre DataFrame initial avec les colonnes start, target, Skin Color, Category\n",
    "matched_pairs_df= matching(df)\n",
    "matched_pairs_df"
   ]
  },
  {
   "cell_type": "code",
   "execution_count": 324,
   "metadata": {},
   "outputs": [
    {
     "name": "stdout",
     "output_type": "stream",
     "text": [
      "result_white_target\n",
      "victory    91\n",
      "defeat     40\n",
      "Name: count, dtype: int64\n",
      "result_other_target\n",
      "victory    112\n",
      "defeat      19\n",
      "Name: count, dtype: int64\n"
     ]
    }
   ],
   "source": [
    "#Count the victory and the defeat depending on the target. \n",
    "target_white = matched_pairs_df['result_white_target'].value_counts()\n",
    "target_others = matched_pairs_df['result_other_target'].value_counts()\n",
    "\n",
    "print(target_white)\n",
    "print(target_others)"
   ]
  },
  {
   "cell_type": "code",
   "execution_count": 327,
   "metadata": {},
   "outputs": [
    {
     "data": {
      "text/plain": [
       "<AxesSubplot:xlabel='Target'>"
      ]
     },
     "execution_count": 327,
     "metadata": {},
     "output_type": "execute_result"
    },
    {
     "data": {
      "image/png": "[encoded data removed]",
      "text/plain": [
       "<Figure size 432x288 with 1 Axes>"
      ]
     },
     "metadata": {
      "needs_background": "light"
     },
     "output_type": "display_data"
    }
   ],
   "source": [
    "#Vizualise the data\n",
    "victory_white = 91\n",
    "defeat_white = 40\n",
    "victory_other = 112\n",
    "defeat_other = 19\n",
    "\n",
    "result = pd.DataFrame({\n",
    "    'Target' : ['white', 'Other'],\n",
    "    'Victory' : [victory_white, victory_other],\n",
    "    'Defeat' : [defeat_white, defeat_other]\n",
    "})\n",
    "\n",
    "result.plot(x='Target', y=['Victory', 'Defeat'], kind=\"bar\")"
   ]
  },
  {
   "cell_type": "markdown",
   "metadata": {},
   "source": [
    "To know if the target person ethnics group has an impact on the result of the game (victory or defeat), we can use a statistic test to compare the victory between both groups (white and others). For example, we can do a Chi-2 test with the following null hypothesis : \n",
    "- H0 : There is no significant differences in victories dependanding on the target people (white or others)' \n",
    "- H1 : There is a significant differences in victories depending on the target people (white or others)'\n",
    "\n",
    "|  | Victory | Defeat |\n",
    "|-----------|-----------|-----------|\n",
    "| Target White People  | 101    | 104    |\n",
    "| Target Other People   | 155    | 50    |"
   ]
  },
  {
   "cell_type": "code",
   "execution_count": 328,
   "metadata": {},
   "outputs": [
    {
     "name": "stdout",
     "output_type": "stream",
     "text": [
      "0.003095843369012257\n"
     ]
    }
   ],
   "source": [
    "#chi2 test \n",
    "\n",
    "contingency_table = [[victory_white, defeat_white], [victory_other, defeat_other]]\n",
    "\n",
    "_, p_value, _, _ = chi2_contingency(contingency_table)\n",
    "print(p_value)"
   ]
  },
  {
   "cell_type": "markdown",
   "metadata": {},
   "source": [
    "The p-value < 0.05, so we reject the null hypothesis in favour of the alternative hypothesis. \n",
    "Indeed, target the other ethnics groups seems to lead more to the victory. This result is quite unexpected. Maybe we can refine our analysis by adding constraint on the confounders such as keeping only the data with the same source and the same shortest path length."
   ]
  }
 ],
 "metadata": {
  "kernelspec": {
   "display_name": "Python 3 (ipykernel)",
   "language": "python",
   "name": "python3"
  },
  "language_info": {
   "codemirror_mode": {
    "name": "ipython",
    "version": 3
   },
   "file_extension": ".py",
   "mimetype": "text/x-python",
   "name": "python",
   "nbconvert_exporter": "python",
   "pygments_lexer": "ipython3",
   "version": "3.9.13"
  }
 },
 "nbformat": 4,
 "nbformat_minor": 5
}
