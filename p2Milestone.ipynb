{
 "cells": [
  {
   "cell_type": "code",
   "execution_count": 96,
   "id": "53be79f1",
   "metadata": {},
   "outputs": [
    {
     "name": "stdout",
     "output_type": "stream",
     "text": [
      "             Elements                                      links\n",
      "0   Áedán_mac_Gabráin                                    Columba\n",
      "1   Áedán_mac_Gabráin                                  Dál_Riata\n",
      "2   Áedán_mac_Gabráin                              Great_Britain\n",
      "3   Áedán_mac_Gabráin                                    Ireland\n",
      "4   Áedán_mac_Gabráin                                Isle_of_Man\n",
      "5   Áedán_mac_Gabráin                                   Monarchy\n",
      "6   Áedán_mac_Gabráin                                     Orkney\n",
      "7   Áedán_mac_Gabráin                                      Picts\n",
      "8   Áedán_mac_Gabráin                                   Scotland\n",
      "9   Áedán_mac_Gabráin                                      Wales\n",
      "10              Åland                               20th_century\n",
      "11              Åland                                 Baltic_Sea\n",
      "12              Åland                                Crimean_War\n",
      "13              Åland                                   Currency\n",
      "14              Åland                                       Euro\n",
      "15              Åland                             European_Union\n",
      "16              Åland                                    Finland\n",
      "17              Åland                          League_of_Nations\n",
      "18              Åland  List_of_countries_by_system_of_government\n",
      "19              Åland                                Nationality\n",
      "20              Åland                       Parliamentary_system\n",
      "21              Åland                                     Police\n",
      "22              Åland                                     Russia\n",
      "23              Åland                                  Stockholm\n",
      "24              Åland                                     Sweden\n",
      "25              Åland                                  Time_zone\n",
      "26              Åland                                    Tourism\n",
      "27              Åland                             United_Kingdom\n",
      "28              Åland                               World_War_II\n",
      "29      Édouard_Manet                                   Absinthe\n",
      "30      Édouard_Manet                                       Beer\n",
      "31      Édouard_Manet                               Claude_Monet\n",
      "32      Édouard_Manet                            Diego_Velázquez\n",
      "33      Édouard_Manet                            Edgar_Allan_Poe\n",
      "34      Édouard_Manet                                     France\n",
      "35      Édouard_Manet                             Francisco_Goya\n",
      "36      Édouard_Manet                                    Germany\n",
      "37      Édouard_Manet                              Impressionism\n",
      "38      Édouard_Manet                                      Italy\n",
      "39      Édouard_Manet                                  Landscape\n",
      "40      Édouard_Manet                                Netherlands\n",
      "41      Édouard_Manet                                   Painting\n",
      "42      Édouard_Manet                                      Paris\n",
      "43      Édouard_Manet                                Photography\n",
      "44      Édouard_Manet                                    Raphael\n",
      "45      Édouard_Manet                                Renaissance\n",
      "46      Édouard_Manet                                     Sweden\n",
      "47      Édouard_Manet                       United_States_dollar\n",
      "48      Édouard_Manet                           Washington,_D.C.\n",
      "49               Éire                                     Canada\n"
     ]
    }
   ],
   "source": [
    "import pandas as pd\n",
    "import matplotlib.pyplot as plt\n",
    "from urllib.parse import unquote\n",
    "from tqdm import tqdm \n",
    "import seaborn as sns\n",
    "from sklearn.linear_model import LinearRegression, LogisticRegression, Ridge\n",
    "# from sklearn.preprocessing import OneHotEncoder\n",
    "# from pandas.plotting import scatter_matrix\n",
    "from sklearn.neighbors import KNeighborsClassifier\n",
    "from sklearn.model_selection import cross_val_predict\n",
    "from sklearn.model_selection import cross_val_score\n",
    "from sklearn.metrics import mean_squared_error, auc, roc_curve\n",
    "\n",
    "dataFolder = '../Data/wikispeedia_paths-and-graph/'\n",
    "articlesDf = pd.read_csv(dataFolder+ 'articles.tsv')\n",
    "articlesDf = articlesDf.iloc[10:]\n",
    "articlesSeries  = pd.Series(articlesDf.index.map(lambda x : x[0])).map(lambda y : unquote(y,'utf-8'))\n",
    "#articlesSeries.head(10)\n",
    "\n",
    "linksDf = pd.read_csv(dataFolder + 'links.tsv', header=11, sep = '\\t')\n",
    "linksDf.columns = ['Elements','links']\n",
    "linksDf['Elements'] = linksDf['Elements'].map(lambda x : unquote(x, 'utf-8'))\n",
    "linksDf['links'] = linksDf['links'].map(lambda x : unquote(x, 'utf-8'))\n",
    "linksDf.reset_index()\n",
    "print(linksDf.head(50))\n",
    "\n",
    "categoriesDf = pd.read_csv(dataFolder + 'categories.tsv', header=11, sep= '\\t')\n",
    "categoriesDf.index = categoriesDf.index.map(lambda x : unquote(x,'utf-8'))\n",
    "categoriesDf.columns = ['categories']\n",
    "#categoriesDf\n",
    "\n",
    "paths_finishedDf= pd.read_csv(dataFolder + 'paths_finished.tsv', header=15, sep= '\\t')\n",
    "paths_finishedDf.columns = ['hashedIpAddress',   'timestamp',   'durationInSec',  'path',  'rating']\n",
    "#print(paths_finishedDf)\n",
    "\n",
    "paths_unfinishedDf= pd.read_csv(dataFolder + 'paths_unfinished.tsv', header=16, sep= '\\t')\n",
    "paths_unfinishedDf.columns = ['hashedIpAddress',   'timestamp',   'durationInSec',  'path',  'target', 'type']\n",
    "#paths_unfinishedDf"
   ]
  },
  {
   "cell_type": "markdown",
   "id": "ab5c06eb",
   "metadata": {},
   "source": [
    "On cherche à faire un lien entre nombre de liens par pages et nombres d'utilisations de cette même page. On commence par connaitre les pages contenant le plus de liens. "
   ]
  },
  {
   "cell_type": "code",
   "execution_count": 79,
   "id": "20a8d0af",
   "metadata": {},
   "outputs": [],
   "source": [
    "links_per_page = linksDf.groupby('Elements',as_index=False).size()\n",
    "links_per_page= links_per_page.rename(columns={'size': 'number_of_links'})\n",
    "#print(links_per_page.head(20))\n",
    "#print(len(links_per_page))"
   ]
  },
  {
   "cell_type": "code",
   "execution_count": 80,
   "id": "9d89489c",
   "metadata": {},
   "outputs": [],
   "source": [
    "paths_finishedDf= pd.read_csv(dataFolder + 'paths_finished.tsv', header=15, sep= '\\t')\n",
    "paths_finishedDf.columns = ['hashedIpAddress',   'timestamp',   'durationInSec',  'path',  'rating']\n",
    "paths = paths_finishedDf[\"path\"].str.split(\";\", expand=True)\n",
    "\n",
    "#Choisir un seuil adéquat !!!\n",
    "seuil=1\n",
    "hubs=pd.DataFrame(columns=['Elements', 'Occurrence'])\n",
    "for i in range(0, paths.shape[1]):\n",
    "    top_elements = paths.iloc[:, i].value_counts()\n",
    "    elements_with_min_occurrences = top_elements[top_elements > seuil]\n",
    "    \n",
    "    # Créez un DataFrame temporaire pour les éléments et leurs occurrences\n",
    "    temp_df = pd.DataFrame({'Elements': elements_with_min_occurrences.index, 'Occurrence': elements_with_min_occurrences.values})\n",
    "    \n",
    "    # Ajoutez le DataFrame temporaire à hubs\n",
    "    hubs = pd.concat([hubs, temp_df], ignore_index=True)\n",
    "hubs= hubs.groupby('Elements')['Occurrence'].sum().reset_index()\n",
    "\n",
    "#Suppression '<' correspondant à des backclicks\n",
    "valeur_a_supprimer = '<'\n",
    "Hubs = hubs[hubs['Elements'] != valeur_a_supprimer]\n",
    "\n",
    "# Réinitialisez l'indice si nécessaire\n",
    "Hubs = Hubs.reset_index(drop=True)\n",
    "#Hubs = Hubs.sort_values('Occurrence', ascending=False)\n",
    "\n",
    "\n",
    "#print(Hubs.head(20))"
   ]
  },
  {
   "cell_type": "code",
   "execution_count": 95,
   "id": "e566c5f4",
   "metadata": {},
   "outputs": [
    {
     "name": "stdout",
     "output_type": "stream",
     "text": [
      "                            Elements  number_of_links Occurrence\n",
      "3567                   United_States              294       8875\n",
      "1210                          Europe              159       4351\n",
      "3563                  United_Kingdom              168       3894\n",
      "1168                         England              172       3321\n",
      "1082                           Earth              118       3215\n",
      "109                           Africa              212       2778\n",
      "3776                    World_War_II              119       2293\n",
      "2495                   North_America               77       1871\n",
      "1417                         Germany              169       1761\n",
      "231                           Animal               29       1705\n",
      "1679                           Human              137       1627\n",
      "2166                          Mammal               42       1611\n",
      "1317                          France               85       1604\n",
      "859                         Computer               36       1542\n",
      "3039                         Science               40       1482\n",
      "1172                English_language              118       1414\n",
      "2664                  Periodic_table              134       1407\n",
      "573                            Brain               54       1317\n",
      "320                   Atlantic_Ocean              125       1306\n",
      "3347                       Telephone               14       1243\n",
      "1732                           India               81       1228\n",
      "498                             Bird               56       1200\n",
      "3625                          Viking               62       1194\n",
      "128                      Agriculture               57       1175\n",
      "306                             Asia              137       1173\n",
      "2715                           Plant               70       1167\n",
      "311                         Asteroid               19       1165\n",
      "767                            China               90       1114\n",
      "779                     Christianity               49       1085\n",
      "1845                           Japan               98       1072\n",
      "3566                  United_Nations              113       1059\n",
      "1763                        Internet               33       1036\n",
      "3811                           Zebra               12       1035\n",
      "3418                         Theatre               17       1032\n",
      "2979                          Russia              105       1012\n",
      "334                        Australia               86        991\n",
      "750                        Chemistry               49        985\n",
      "2098                          London              102        965\n",
      "3281                             Sun               74        925\n",
      "3171                   South_America               99        912\n",
      "656                           Canada               63        910\n",
      "3680                           Water              131        896\n",
      "1214                  European_Union              133        883\n",
      "104                     Adolf_Hitler               78        877\n",
      "3159                    Solar_System               58        872\n",
      "1808                           Italy               85        857\n",
      "2785  President_of_the_United_States               57        841\n",
      "2698                         Physics              107        839\n",
      "748                 Chemical_element               34        837\n",
      "2606                   Pacific_Ocean               87        830\n",
      "3826\n"
     ]
    },
    {
     "data": {
      "text/plain": [
       "<Axes: xlabel='number_of_links', ylabel='Occurrence'>"
      ]
     },
     "execution_count": 95,
     "metadata": {},
     "output_type": "execute_result"
    },
    {
     "data": {
      "image/png": "[encoded data removed]",
      "text/plain": [
       "<Figure size 640x480 with 1 Axes>"
      ]
     },
     "metadata": {},
     "output_type": "display_data"
    }
   ],
   "source": [
    "Hubs_and_links = links_per_page.merge(Hubs, on='Elements')\n",
    "Hubs_and_links = Hubs_and_links.sort_values('Occurrence', ascending=False)\n",
    "print(Hubs_and_links.head(50))\n",
    "print(len(Hubs_and_links))\n",
    "\n",
    "#Hubs_and_links.head(50).plot.bar(x=\"Elements\", y=\"number_of_links\")\n",
    "Hubs_and_links.plot.scatter( x=\"number_of_links\", y=\"Occurrence\", s=1)\n",
    "#Hubs_and_links.Occurrence.describe()"
   ]
  },
  {
   "cell_type": "code",
   "execution_count": 97,
   "id": "2c604b89",
   "metadata": {},
   "outputs": [
    {
     "ename": "ValueError",
     "evalue": "Expected 2D array, got 1D array instead:\narray=[294 159 168 ...  18  11  14].\nReshape your data either using array.reshape(-1, 1) if your data has a single feature or array.reshape(1, -1) if it contains a single sample.",
     "output_type": "error",
     "traceback": [
      "\u001b[0;31m---------------------------------------------------------------------------\u001b[0m",
      "\u001b[0;31mValueError\u001b[0m                                Traceback (most recent call last)",
      "\u001b[1;32m/Users/nilsmanni/Desktop/MA_1/ADA/ada-2023-project-beautifulcows1234/p2Milestone.ipynb Cell 6\u001b[0m line \u001b[0;36m4\n\u001b[1;32m      <a href='vscode-notebook-cell:/Users/nilsmanni/Desktop/MA_1/ADA/ada-2023-project-beautifulcows1234/p2Milestone.ipynb#W5sZmlsZQ%3D%3D?line=1'>2</a>\u001b[0m y \u001b[39m=\u001b[39m Hubs_and_links\u001b[39m.\u001b[39mOccurrence\n\u001b[1;32m      <a href='vscode-notebook-cell:/Users/nilsmanni/Desktop/MA_1/ADA/ada-2023-project-beautifulcows1234/p2Milestone.ipynb#W5sZmlsZQ%3D%3D?line=2'>3</a>\u001b[0m lin_reg \u001b[39m=\u001b[39m LinearRegression()  \u001b[39m# create the model\u001b[39;00m\n\u001b[0;32m----> <a href='vscode-notebook-cell:/Users/nilsmanni/Desktop/MA_1/ADA/ada-2023-project-beautifulcows1234/p2Milestone.ipynb#W5sZmlsZQ%3D%3D?line=3'>4</a>\u001b[0m lin_reg\u001b[39m.\u001b[39mfit(X, y)  \u001b[39m# train it\u001b[39;00m\n\u001b[1;32m      <a href='vscode-notebook-cell:/Users/nilsmanni/Desktop/MA_1/ADA/ada-2023-project-beautifulcows1234/p2Milestone.ipynb#W5sZmlsZQ%3D%3D?line=5'>6</a>\u001b[0m lr \u001b[39m=\u001b[39m LinearRegression()\n\u001b[1;32m      <a href='vscode-notebook-cell:/Users/nilsmanni/Desktop/MA_1/ADA/ada-2023-project-beautifulcows1234/p2Milestone.ipynb#W5sZmlsZQ%3D%3D?line=7'>8</a>\u001b[0m \u001b[39m# cross_val_predict returns an array of the same size as `y` where each entry\u001b[39;00m\n\u001b[1;32m      <a href='vscode-notebook-cell:/Users/nilsmanni/Desktop/MA_1/ADA/ada-2023-project-beautifulcows1234/p2Milestone.ipynb#W5sZmlsZQ%3D%3D?line=8'>9</a>\u001b[0m \u001b[39m# is a prediction obtained by cross validation:\u001b[39;00m\n",
      "File \u001b[0;32m~/anaconda3/lib/python3.11/site-packages/sklearn/base.py:1151\u001b[0m, in \u001b[0;36m_fit_context.<locals>.decorator.<locals>.wrapper\u001b[0;34m(estimator, *args, **kwargs)\u001b[0m\n\u001b[1;32m   1144\u001b[0m     estimator\u001b[39m.\u001b[39m_validate_params()\n\u001b[1;32m   1146\u001b[0m \u001b[39mwith\u001b[39;00m config_context(\n\u001b[1;32m   1147\u001b[0m     skip_parameter_validation\u001b[39m=\u001b[39m(\n\u001b[1;32m   1148\u001b[0m         prefer_skip_nested_validation \u001b[39mor\u001b[39;00m global_skip_validation\n\u001b[1;32m   1149\u001b[0m     )\n\u001b[1;32m   1150\u001b[0m ):\n\u001b[0;32m-> 1151\u001b[0m     \u001b[39mreturn\u001b[39;00m fit_method(estimator, \u001b[39m*\u001b[39margs, \u001b[39m*\u001b[39m\u001b[39m*\u001b[39mkwargs)\n",
      "File \u001b[0;32m~/anaconda3/lib/python3.11/site-packages/sklearn/linear_model/_base.py:678\u001b[0m, in \u001b[0;36mLinearRegression.fit\u001b[0;34m(self, X, y, sample_weight)\u001b[0m\n\u001b[1;32m    674\u001b[0m n_jobs_ \u001b[39m=\u001b[39m \u001b[39mself\u001b[39m\u001b[39m.\u001b[39mn_jobs\n\u001b[1;32m    676\u001b[0m accept_sparse \u001b[39m=\u001b[39m \u001b[39mFalse\u001b[39;00m \u001b[39mif\u001b[39;00m \u001b[39mself\u001b[39m\u001b[39m.\u001b[39mpositive \u001b[39melse\u001b[39;00m [\u001b[39m\"\u001b[39m\u001b[39mcsr\u001b[39m\u001b[39m\"\u001b[39m, \u001b[39m\"\u001b[39m\u001b[39mcsc\u001b[39m\u001b[39m\"\u001b[39m, \u001b[39m\"\u001b[39m\u001b[39mcoo\u001b[39m\u001b[39m\"\u001b[39m]\n\u001b[0;32m--> 678\u001b[0m X, y \u001b[39m=\u001b[39m \u001b[39mself\u001b[39m\u001b[39m.\u001b[39m_validate_data(\n\u001b[1;32m    679\u001b[0m     X, y, accept_sparse\u001b[39m=\u001b[39maccept_sparse, y_numeric\u001b[39m=\u001b[39m\u001b[39mTrue\u001b[39;00m, multi_output\u001b[39m=\u001b[39m\u001b[39mTrue\u001b[39;00m\n\u001b[1;32m    680\u001b[0m )\n\u001b[1;32m    682\u001b[0m has_sw \u001b[39m=\u001b[39m sample_weight \u001b[39mis\u001b[39;00m \u001b[39mnot\u001b[39;00m \u001b[39mNone\u001b[39;00m\n\u001b[1;32m    683\u001b[0m \u001b[39mif\u001b[39;00m has_sw:\n",
      "File \u001b[0;32m~/anaconda3/lib/python3.11/site-packages/sklearn/base.py:621\u001b[0m, in \u001b[0;36mBaseEstimator._validate_data\u001b[0;34m(self, X, y, reset, validate_separately, cast_to_ndarray, **check_params)\u001b[0m\n\u001b[1;32m    619\u001b[0m         y \u001b[39m=\u001b[39m check_array(y, input_name\u001b[39m=\u001b[39m\u001b[39m\"\u001b[39m\u001b[39my\u001b[39m\u001b[39m\"\u001b[39m, \u001b[39m*\u001b[39m\u001b[39m*\u001b[39mcheck_y_params)\n\u001b[1;32m    620\u001b[0m     \u001b[39melse\u001b[39;00m:\n\u001b[0;32m--> 621\u001b[0m         X, y \u001b[39m=\u001b[39m check_X_y(X, y, \u001b[39m*\u001b[39m\u001b[39m*\u001b[39mcheck_params)\n\u001b[1;32m    622\u001b[0m     out \u001b[39m=\u001b[39m X, y\n\u001b[1;32m    624\u001b[0m \u001b[39mif\u001b[39;00m \u001b[39mnot\u001b[39;00m no_val_X \u001b[39mand\u001b[39;00m check_params\u001b[39m.\u001b[39mget(\u001b[39m\"\u001b[39m\u001b[39mensure_2d\u001b[39m\u001b[39m\"\u001b[39m, \u001b[39mTrue\u001b[39;00m):\n",
      "File \u001b[0;32m~/anaconda3/lib/python3.11/site-packages/sklearn/utils/validation.py:1147\u001b[0m, in \u001b[0;36mcheck_X_y\u001b[0;34m(X, y, accept_sparse, accept_large_sparse, dtype, order, copy, force_all_finite, ensure_2d, allow_nd, multi_output, ensure_min_samples, ensure_min_features, y_numeric, estimator)\u001b[0m\n\u001b[1;32m   1142\u001b[0m         estimator_name \u001b[39m=\u001b[39m _check_estimator_name(estimator)\n\u001b[1;32m   1143\u001b[0m     \u001b[39mraise\u001b[39;00m \u001b[39mValueError\u001b[39;00m(\n\u001b[1;32m   1144\u001b[0m         \u001b[39mf\u001b[39m\u001b[39m\"\u001b[39m\u001b[39m{\u001b[39;00mestimator_name\u001b[39m}\u001b[39;00m\u001b[39m requires y to be passed, but the target y is None\u001b[39m\u001b[39m\"\u001b[39m\n\u001b[1;32m   1145\u001b[0m     )\n\u001b[0;32m-> 1147\u001b[0m X \u001b[39m=\u001b[39m check_array(\n\u001b[1;32m   1148\u001b[0m     X,\n\u001b[1;32m   1149\u001b[0m     accept_sparse\u001b[39m=\u001b[39maccept_sparse,\n\u001b[1;32m   1150\u001b[0m     accept_large_sparse\u001b[39m=\u001b[39maccept_large_sparse,\n\u001b[1;32m   1151\u001b[0m     dtype\u001b[39m=\u001b[39mdtype,\n\u001b[1;32m   1152\u001b[0m     order\u001b[39m=\u001b[39morder,\n\u001b[1;32m   1153\u001b[0m     copy\u001b[39m=\u001b[39mcopy,\n\u001b[1;32m   1154\u001b[0m     force_all_finite\u001b[39m=\u001b[39mforce_all_finite,\n\u001b[1;32m   1155\u001b[0m     ensure_2d\u001b[39m=\u001b[39mensure_2d,\n\u001b[1;32m   1156\u001b[0m     allow_nd\u001b[39m=\u001b[39mallow_nd,\n\u001b[1;32m   1157\u001b[0m     ensure_min_samples\u001b[39m=\u001b[39mensure_min_samples,\n\u001b[1;32m   1158\u001b[0m     ensure_min_features\u001b[39m=\u001b[39mensure_min_features,\n\u001b[1;32m   1159\u001b[0m     estimator\u001b[39m=\u001b[39mestimator,\n\u001b[1;32m   1160\u001b[0m     input_name\u001b[39m=\u001b[39m\u001b[39m\"\u001b[39m\u001b[39mX\u001b[39m\u001b[39m\"\u001b[39m,\n\u001b[1;32m   1161\u001b[0m )\n\u001b[1;32m   1163\u001b[0m y \u001b[39m=\u001b[39m _check_y(y, multi_output\u001b[39m=\u001b[39mmulti_output, y_numeric\u001b[39m=\u001b[39my_numeric, estimator\u001b[39m=\u001b[39mestimator)\n\u001b[1;32m   1165\u001b[0m check_consistent_length(X, y)\n",
      "File \u001b[0;32m~/anaconda3/lib/python3.11/site-packages/sklearn/utils/validation.py:940\u001b[0m, in \u001b[0;36mcheck_array\u001b[0;34m(array, accept_sparse, accept_large_sparse, dtype, order, copy, force_all_finite, ensure_2d, allow_nd, ensure_min_samples, ensure_min_features, estimator, input_name)\u001b[0m\n\u001b[1;32m    938\u001b[0m     \u001b[39m# If input is 1D raise error\u001b[39;00m\n\u001b[1;32m    939\u001b[0m     \u001b[39mif\u001b[39;00m array\u001b[39m.\u001b[39mndim \u001b[39m==\u001b[39m \u001b[39m1\u001b[39m:\n\u001b[0;32m--> 940\u001b[0m         \u001b[39mraise\u001b[39;00m \u001b[39mValueError\u001b[39;00m(\n\u001b[1;32m    941\u001b[0m             \u001b[39m\"\u001b[39m\u001b[39mExpected 2D array, got 1D array instead:\u001b[39m\u001b[39m\\n\u001b[39;00m\u001b[39marray=\u001b[39m\u001b[39m{}\u001b[39;00m\u001b[39m.\u001b[39m\u001b[39m\\n\u001b[39;00m\u001b[39m\"\u001b[39m\n\u001b[1;32m    942\u001b[0m             \u001b[39m\"\u001b[39m\u001b[39mReshape your data either using array.reshape(-1, 1) if \u001b[39m\u001b[39m\"\u001b[39m\n\u001b[1;32m    943\u001b[0m             \u001b[39m\"\u001b[39m\u001b[39myour data has a single feature or array.reshape(1, -1) \u001b[39m\u001b[39m\"\u001b[39m\n\u001b[1;32m    944\u001b[0m             \u001b[39m\"\u001b[39m\u001b[39mif it contains a single sample.\u001b[39m\u001b[39m\"\u001b[39m\u001b[39m.\u001b[39mformat(array)\n\u001b[1;32m    945\u001b[0m         )\n\u001b[1;32m    947\u001b[0m \u001b[39mif\u001b[39;00m dtype_numeric \u001b[39mand\u001b[39;00m \u001b[39mhasattr\u001b[39m(array\u001b[39m.\u001b[39mdtype, \u001b[39m\"\u001b[39m\u001b[39mkind\u001b[39m\u001b[39m\"\u001b[39m) \u001b[39mand\u001b[39;00m array\u001b[39m.\u001b[39mdtype\u001b[39m.\u001b[39mkind \u001b[39min\u001b[39;00m \u001b[39m\"\u001b[39m\u001b[39mUSV\u001b[39m\u001b[39m\"\u001b[39m:\n\u001b[1;32m    948\u001b[0m     \u001b[39mraise\u001b[39;00m \u001b[39mValueError\u001b[39;00m(\n\u001b[1;32m    949\u001b[0m         \u001b[39m\"\u001b[39m\u001b[39mdtype=\u001b[39m\u001b[39m'\u001b[39m\u001b[39mnumeric\u001b[39m\u001b[39m'\u001b[39m\u001b[39m is not compatible with arrays of bytes/strings.\u001b[39m\u001b[39m\"\u001b[39m\n\u001b[1;32m    950\u001b[0m         \u001b[39m\"\u001b[39m\u001b[39mConvert your data to numeric values explicitly instead.\u001b[39m\u001b[39m\"\u001b[39m\n\u001b[1;32m    951\u001b[0m     )\n",
      "\u001b[0;31mValueError\u001b[0m: Expected 2D array, got 1D array instead:\narray=[294 159 168 ...  18  11  14].\nReshape your data either using array.reshape(-1, 1) if your data has a single feature or array.reshape(1, -1) if it contains a single sample."
     ]
    }
   ],
   "source": [
    "X = Hubs_and_links.number_of_links\n",
    "y = Hubs_and_links.Occurrence\n",
    "lin_reg = LinearRegression()  # create the model\n",
    "lin_reg.fit(X, y)  # train it\n",
    "\n",
    "lr = LinearRegression()\n",
    "\n",
    "# cross_val_predict returns an array of the same size as `y` where each entry\n",
    "# is a prediction obtained by cross validation:\n",
    "predicted = cross_val_predict(lr, X, y, cv=5)\n",
    "\n",
    "# Plot the results\n",
    "fig, ax = plt.subplots(figsize=(12, 8))\n",
    "ax.scatter(y, predicted, edgecolors=(0, 0, 0))\n",
    "ax.plot([min(y), max(y)], [min(y), max(y)], 'r--', lw=4)\n",
    "ax.set_xlabel('Original')\n",
    "ax.set_ylabel('Predicted')\n",
    "plt.show()"
   ]
  },
  {
   "cell_type": "code",
   "execution_count": null,
   "id": "7f1290b7",
   "metadata": {},
   "outputs": [],
   "source": []
  }
 ],
 "metadata": {
  "kernelspec": {
   "display_name": "Python 3 (ipykernel)",
   "language": "python",
   "name": "python3"
  },
  "language_info": {
   "codemirror_mode": {
    "name": "ipython",
    "version": 3
   },
   "file_extension": ".py",
   "mimetype": "text/x-python",
   "name": "python",
   "nbconvert_exporter": "python",
   "pygments_lexer": "ipython3",
   "version": "3.11.4"
  }
 },
 "nbformat": 4,
 "nbformat_minor": 5
}
